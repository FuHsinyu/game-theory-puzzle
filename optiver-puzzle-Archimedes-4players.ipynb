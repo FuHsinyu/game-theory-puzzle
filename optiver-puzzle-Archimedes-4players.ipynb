{
 "metadata": {
  "language_info": {
   "codemirror_mode": {
    "name": "ipython",
    "version": 3
   },
   "file_extension": ".py",
   "mimetype": "text/x-python",
   "name": "python",
   "nbconvert_exporter": "python",
   "pygments_lexer": "ipython3",
   "version": "3.7.1-final"
  },
  "orig_nbformat": 2,
  "kernelspec": {
   "name": "python3",
   "display_name": "Python 3",
   "language": "python"
  }
 },
 "nbformat": 4,
 "nbformat_minor": 2,
 "cells": [
  {
   "cell_type": "code",
   "execution_count": 23,
   "metadata": {},
   "outputs": [],
   "source": [
    "import numpy as np\n",
    "import pandas as pd\n",
    "import seaborn as sns\n",
    "import matplotlib.pyplot as plt\n",
    "import warnings\n",
    "import warnings\n",
    "warnings.filterwarnings(\"ignore\")\n",
    "pd.set_option('display.max_rows', 20)"
   ]
  },
  {
   "cell_type": "code",
   "execution_count": 25,
   "metadata": {},
   "outputs": [],
   "source": [
    "'''\n",
    "a #number picked by A\n",
    "A #Player A\n",
    "ult_a #utility of A\n",
    "'''\n",
    "\n",
    "n = 4  # Num of palyers\n",
    "epsilon = 0.05 #stepsize\n"
   ]
  },
  {
   "cell_type": "code",
   "execution_count": null,
   "metadata": {},
   "outputs": [],
   "source": []
  },
  {
   "cell_type": "code",
   "execution_count": 28,
   "metadata": {},
   "outputs": [
    {
     "output_type": "execute_result",
     "data": {
      "text/plain": [
       "{'bounder_l': 0,\n",
       " 'a': 0.1,\n",
       " 'c': 0.2,\n",
       " 'b': 0.3,\n",
       " 'd': 0.6,\n",
       " 'bounder_r': 1,\n",
       " 'utl_a': 0.15,\n",
       " 'utl_c': 0.1,\n",
       " 'utl_b': 0.2,\n",
       " 'utl_d': 0.55}"
      ]
     },
     "metadata": {},
     "execution_count": 28
    }
   ],
   "source": [
    "def get_utl_of_a_palyer(ord_picks,p_index,p_name):\n",
    "    if p_index == 1:\n",
    "        ult = ord_picks[p_index]-ord_picks[0] + (ord_picks[p_index+1]-ord_picks[p_index])/2\n",
    "    elif p_index == len(ord_picks)-2:\n",
    "        ult = ord_picks[-1]-ord_picks[p_index] + (ord_picks[p_index]-ord_picks[p_index-1])/2\n",
    "    else:\n",
    "        ult = (ord_picks[p_index+1]-ord_picks[p_index-1])/2\n",
    "    return {\"utl_\"+p_name:np.round(ult,4)}\n",
    "\n",
    "def get_utl_for_each_palyer(picks_dic):\n",
    "    utl_dic = {}\n",
    "    ord_picks_dic = {k: v for k, v in sorted(picks_dic.items(), key=lambda item: item[1])}\n",
    "    for p_index in range(1,n+1):\n",
    "        utl_dic.update(get_utl_of_a_palyer(list(ord_picks_dic.values()),p_index,list(ord_picks_dic.keys())[p_index],))\n",
    "    ord_picks_dic.update(utl_dic)\n",
    "    return ord_picks_dic\n",
    "#test\n",
    "picks_dic={}\n",
    "picks_dic[\"bounder_l\"] = 0\n",
    "picks_dic[\"a\"] = 0.1\n",
    "picks_dic[\"b\"] = 0.3\n",
    "picks_dic[\"c\"] = 0.2\n",
    "picks_dic[\"d\"] = 0.6\n",
    "picks_dic[\"bounder_r\"] = 1\n",
    "get_utl_for_each_palyer(picks_dic)\n"
   ]
  },
  {
   "cell_type": "code",
   "execution_count": 152,
   "metadata": {},
   "outputs": [],
   "source": [
    "epsilon = 0.05\n",
    "arr_a = np.arange(0,1+epsilon,step=epsilon)\n",
    "arr_b = np.arange(0,1+epsilon,step=epsilon)\n",
    "arr_c = np.arange(0,1+epsilon,step=epsilon)\n",
    "arr_d = np.arange(0,1+epsilon,step=epsilon)"
   ]
  },
  {
   "cell_type": "code",
   "execution_count": 153,
   "metadata": {},
   "outputs": [
    {
     "output_type": "stream",
     "name": "stdout",
     "text": [
      "Progress:0.0/100\n",
      "Progress:5.0/100\n",
      "Progress:10.0/100\n",
      "Progress:15.0/100\n",
      "Progress:20.0/100\n",
      "Progress:25.0/100\n",
      "Progress:30.0/100\n",
      "Progress:35.0/100\n",
      "Progress:40.0/100\n",
      "Progress:45.0/100\n",
      "Progress:50.0/100\n",
      "Progress:55.00000000000001/100\n",
      "Progress:60.0/100\n",
      "Progress:65.0/100\n",
      "Progress:70.0/100\n",
      "Progress:75.0/100\n",
      "Progress:80.0/100\n",
      "Progress:85.0/100\n",
      "Progress:90.0/100\n",
      "Progress:95.0/100\n",
      "Progress:100.0/100\n"
     ]
    }
   ],
   "source": [
    "#%%time\n",
    "#columns = [\"bounder_l\",\"a\",\"b\",\"c\",\"bounder_r\",\"utl_a\",\"utl_b\",\"utl_c\"]\n",
    "df = pd.DataFrame()\n",
    "picks_dic = {}\n",
    "picks_dic[\"bounder_l\"] = 0\n",
    "for a in arr_a:\n",
    "    a = np.round(a,4)\n",
    "    print(\"Progress:{}/100\".format(a*100))\n",
    "    picks_dic[\"a\"] = a\n",
    "    for b in arr_b:\n",
    "        b = np.round(b,4)\n",
    "        if b == a:\n",
    "            continue\n",
    "        picks_dic[\"b\"] = b\n",
    "        for c in arr_c:\n",
    "            c = np.round(c,4)\n",
    "            if c==b or c==a:\n",
    "                continue\n",
    "            picks_dic[\"c\"] = c\n",
    "            for d in arr_d:\n",
    "                d = np.round(d,4)\n",
    "                if d==c or d==b or d==a:\n",
    "                    continue\n",
    "                picks_dic[\"d\"] = d\n",
    "                picks_dic[\"bounder_r\"] = 1\n",
    "                row_dic = get_utl_for_each_palyer(picks_dic)\n",
    "                df = df.append(row_dic,ignore_index = True)\n",
    "df = df.drop(columns=[\"bounder_l\",\"bounder_r\"])"
   ]
  },
  {
   "cell_type": "code",
   "execution_count": 154,
   "metadata": {
    "tags": []
   },
   "outputs": [
    {
     "output_type": "execute_result",
     "data": {
      "text/plain": [
       "          a     b     c     d  utl_a  utl_b  utl_c  utl_d\n",
       "0       0.0  0.05  0.10  0.15  0.025  0.050  0.050  0.875\n",
       "19      0.0  0.05  0.15  0.20  0.025  0.075  0.075  0.825\n",
       "38      0.0  0.05  0.20  0.25  0.025  0.100  0.100  0.775\n",
       "57      0.0  0.05  0.25  0.30  0.025  0.125  0.125  0.725\n",
       "76      0.0  0.05  0.30  0.35  0.025  0.150  0.150  0.675\n",
       "95      0.0  0.05  0.35  0.40  0.025  0.175  0.175  0.625\n",
       "114     0.0  0.05  0.40  0.45  0.025  0.200  0.200  0.575\n",
       "133     0.0  0.05  0.45  0.50  0.025  0.225  0.225  0.525\n",
       "152     0.0  0.05  0.50  0.55  0.025  0.250  0.250  0.475\n",
       "171     0.0  0.05  0.55  0.60  0.025  0.275  0.275  0.425\n",
       "...     ...   ...   ...   ...    ...    ...    ...    ...\n",
       "143468  1.0  0.95  0.45  0.40  0.025  0.275  0.275  0.425\n",
       "143487  1.0  0.95  0.50  0.45  0.025  0.250  0.250  0.475\n",
       "143506  1.0  0.95  0.55  0.50  0.025  0.225  0.225  0.525\n",
       "143525  1.0  0.95  0.60  0.55  0.025  0.200  0.200  0.575\n",
       "143544  1.0  0.95  0.65  0.60  0.025  0.175  0.175  0.625\n",
       "143563  1.0  0.95  0.70  0.65  0.025  0.150  0.150  0.675\n",
       "143582  1.0  0.95  0.75  0.70  0.025  0.125  0.125  0.725\n",
       "143601  1.0  0.95  0.80  0.75  0.025  0.100  0.100  0.775\n",
       "143620  1.0  0.95  0.85  0.80  0.025  0.075  0.075  0.825\n",
       "143639  1.0  0.95  0.90  0.85  0.025  0.050  0.050  0.875\n",
       "\n",
       "[36936 rows x 8 columns]"
      ],
      "text/html": "<div>\n<style scoped>\n    .dataframe tbody tr th:only-of-type {\n        vertical-align: middle;\n    }\n\n    .dataframe tbody tr th {\n        vertical-align: top;\n    }\n\n    .dataframe thead th {\n        text-align: right;\n    }\n</style>\n<table border=\"1\" class=\"dataframe\">\n  <thead>\n    <tr style=\"text-align: right;\">\n      <th></th>\n      <th>a</th>\n      <th>b</th>\n      <th>c</th>\n      <th>d</th>\n      <th>utl_a</th>\n      <th>utl_b</th>\n      <th>utl_c</th>\n      <th>utl_d</th>\n    </tr>\n  </thead>\n  <tbody>\n    <tr>\n      <th>0</th>\n      <td>0.0</td>\n      <td>0.05</td>\n      <td>0.10</td>\n      <td>0.15</td>\n      <td>0.025</td>\n      <td>0.050</td>\n      <td>0.050</td>\n      <td>0.875</td>\n    </tr>\n    <tr>\n      <th>19</th>\n      <td>0.0</td>\n      <td>0.05</td>\n      <td>0.15</td>\n      <td>0.20</td>\n      <td>0.025</td>\n      <td>0.075</td>\n      <td>0.075</td>\n      <td>0.825</td>\n    </tr>\n    <tr>\n      <th>38</th>\n      <td>0.0</td>\n      <td>0.05</td>\n      <td>0.20</td>\n      <td>0.25</td>\n      <td>0.025</td>\n      <td>0.100</td>\n      <td>0.100</td>\n      <td>0.775</td>\n    </tr>\n    <tr>\n      <th>57</th>\n      <td>0.0</td>\n      <td>0.05</td>\n      <td>0.25</td>\n      <td>0.30</td>\n      <td>0.025</td>\n      <td>0.125</td>\n      <td>0.125</td>\n      <td>0.725</td>\n    </tr>\n    <tr>\n      <th>76</th>\n      <td>0.0</td>\n      <td>0.05</td>\n      <td>0.30</td>\n      <td>0.35</td>\n      <td>0.025</td>\n      <td>0.150</td>\n      <td>0.150</td>\n      <td>0.675</td>\n    </tr>\n    <tr>\n      <th>95</th>\n      <td>0.0</td>\n      <td>0.05</td>\n      <td>0.35</td>\n      <td>0.40</td>\n      <td>0.025</td>\n      <td>0.175</td>\n      <td>0.175</td>\n      <td>0.625</td>\n    </tr>\n    <tr>\n      <th>114</th>\n      <td>0.0</td>\n      <td>0.05</td>\n      <td>0.40</td>\n      <td>0.45</td>\n      <td>0.025</td>\n      <td>0.200</td>\n      <td>0.200</td>\n      <td>0.575</td>\n    </tr>\n    <tr>\n      <th>133</th>\n      <td>0.0</td>\n      <td>0.05</td>\n      <td>0.45</td>\n      <td>0.50</td>\n      <td>0.025</td>\n      <td>0.225</td>\n      <td>0.225</td>\n      <td>0.525</td>\n    </tr>\n    <tr>\n      <th>152</th>\n      <td>0.0</td>\n      <td>0.05</td>\n      <td>0.50</td>\n      <td>0.55</td>\n      <td>0.025</td>\n      <td>0.250</td>\n      <td>0.250</td>\n      <td>0.475</td>\n    </tr>\n    <tr>\n      <th>171</th>\n      <td>0.0</td>\n      <td>0.05</td>\n      <td>0.55</td>\n      <td>0.60</td>\n      <td>0.025</td>\n      <td>0.275</td>\n      <td>0.275</td>\n      <td>0.425</td>\n    </tr>\n    <tr>\n      <th>...</th>\n      <td>...</td>\n      <td>...</td>\n      <td>...</td>\n      <td>...</td>\n      <td>...</td>\n      <td>...</td>\n      <td>...</td>\n      <td>...</td>\n    </tr>\n    <tr>\n      <th>143468</th>\n      <td>1.0</td>\n      <td>0.95</td>\n      <td>0.45</td>\n      <td>0.40</td>\n      <td>0.025</td>\n      <td>0.275</td>\n      <td>0.275</td>\n      <td>0.425</td>\n    </tr>\n    <tr>\n      <th>143487</th>\n      <td>1.0</td>\n      <td>0.95</td>\n      <td>0.50</td>\n      <td>0.45</td>\n      <td>0.025</td>\n      <td>0.250</td>\n      <td>0.250</td>\n      <td>0.475</td>\n    </tr>\n    <tr>\n      <th>143506</th>\n      <td>1.0</td>\n      <td>0.95</td>\n      <td>0.55</td>\n      <td>0.50</td>\n      <td>0.025</td>\n      <td>0.225</td>\n      <td>0.225</td>\n      <td>0.525</td>\n    </tr>\n    <tr>\n      <th>143525</th>\n      <td>1.0</td>\n      <td>0.95</td>\n      <td>0.60</td>\n      <td>0.55</td>\n      <td>0.025</td>\n      <td>0.200</td>\n      <td>0.200</td>\n      <td>0.575</td>\n    </tr>\n    <tr>\n      <th>143544</th>\n      <td>1.0</td>\n      <td>0.95</td>\n      <td>0.65</td>\n      <td>0.60</td>\n      <td>0.025</td>\n      <td>0.175</td>\n      <td>0.175</td>\n      <td>0.625</td>\n    </tr>\n    <tr>\n      <th>143563</th>\n      <td>1.0</td>\n      <td>0.95</td>\n      <td>0.70</td>\n      <td>0.65</td>\n      <td>0.025</td>\n      <td>0.150</td>\n      <td>0.150</td>\n      <td>0.675</td>\n    </tr>\n    <tr>\n      <th>143582</th>\n      <td>1.0</td>\n      <td>0.95</td>\n      <td>0.75</td>\n      <td>0.70</td>\n      <td>0.025</td>\n      <td>0.125</td>\n      <td>0.125</td>\n      <td>0.725</td>\n    </tr>\n    <tr>\n      <th>143601</th>\n      <td>1.0</td>\n      <td>0.95</td>\n      <td>0.80</td>\n      <td>0.75</td>\n      <td>0.025</td>\n      <td>0.100</td>\n      <td>0.100</td>\n      <td>0.775</td>\n    </tr>\n    <tr>\n      <th>143620</th>\n      <td>1.0</td>\n      <td>0.95</td>\n      <td>0.85</td>\n      <td>0.80</td>\n      <td>0.025</td>\n      <td>0.075</td>\n      <td>0.075</td>\n      <td>0.825</td>\n    </tr>\n    <tr>\n      <th>143639</th>\n      <td>1.0</td>\n      <td>0.95</td>\n      <td>0.90</td>\n      <td>0.85</td>\n      <td>0.025</td>\n      <td>0.050</td>\n      <td>0.050</td>\n      <td>0.875</td>\n    </tr>\n  </tbody>\n</table>\n<p>36936 rows × 8 columns</p>\n</div>"
     },
     "metadata": {},
     "execution_count": 154
    }
   ],
   "source": [
    "df_max_ult_d = pd.DataFrame()\n",
    "for a in arr_a:\n",
    "    a = np.round(a,4)\n",
    "    for b in arr_b:\n",
    "        b = np.round(b,4)\n",
    "        if b == a:\n",
    "            continue\n",
    "        for c in arr_c:\n",
    "            c = np.round(c,4)\n",
    "            if c==b or c==a:\n",
    "                continue\n",
    "            #print(a,b,c)\n",
    "            df_temp = df[df.a==a][df.b==b][df.c==c]\n",
    "            df_max_ult_d = df_max_ult_d.append(df_temp[df.utl_d==max(df_temp.utl_d)])\n",
    "            #print(df_max_ult_d)\n",
    "df_max_ult_d"
   ]
  },
  {
   "cell_type": "code",
   "execution_count": 155,
   "metadata": {
    "tags": []
   },
   "outputs": [
    {
     "output_type": "execute_result",
     "data": {
      "text/plain": [
       "          a     b     c     d  utl_a  utl_b  utl_c  utl_d\n",
       "216     0.0  0.05  0.70  0.10  0.025  0.050  0.600  0.325\n",
       "559     0.0  0.10  0.70  0.15  0.050  0.075  0.575  0.300\n",
       "902     0.0  0.15  0.70  0.20  0.075  0.100  0.550  0.275\n",
       "1263    0.0  0.20  0.75  0.25  0.100  0.125  0.500  0.275\n",
       "1606    0.0  0.25  0.75  0.30  0.125  0.150  0.475  0.250\n",
       "1949    0.0  0.30  0.75  0.35  0.150  0.175  0.450  0.225\n",
       "2310    0.0  0.35  0.80  0.40  0.175  0.200  0.400  0.225\n",
       "2646    0.0  0.40  0.80  0.05  0.025  0.375  0.400  0.200\n",
       "2647    0.0  0.40  0.80  0.10  0.050  0.350  0.400  0.200\n",
       "2648    0.0  0.40  0.80  0.15  0.075  0.325  0.400  0.200\n",
       "...     ...   ...   ...   ...    ...    ...    ...    ...\n",
       "140991  1.0  0.60  0.20  0.85  0.075  0.325  0.400  0.200\n",
       "140992  1.0  0.60  0.20  0.90  0.050  0.350  0.400  0.200\n",
       "140993  1.0  0.60  0.20  0.95  0.025  0.375  0.400  0.200\n",
       "141329  1.0  0.65  0.20  0.60  0.175  0.200  0.400  0.225\n",
       "141690  1.0  0.70  0.25  0.65  0.150  0.175  0.450  0.225\n",
       "142033  1.0  0.75  0.25  0.70  0.125  0.150  0.475  0.250\n",
       "142376  1.0  0.80  0.25  0.75  0.100  0.125  0.500  0.275\n",
       "142737  1.0  0.85  0.30  0.80  0.075  0.100  0.550  0.275\n",
       "143080  1.0  0.90  0.30  0.85  0.050  0.075  0.575  0.300\n",
       "143423  1.0  0.95  0.30  0.90  0.025  0.050  0.600  0.325\n",
       "\n",
       "[2164 rows x 8 columns]"
      ],
      "text/html": "<div>\n<style scoped>\n    .dataframe tbody tr th:only-of-type {\n        vertical-align: middle;\n    }\n\n    .dataframe tbody tr th {\n        vertical-align: top;\n    }\n\n    .dataframe thead th {\n        text-align: right;\n    }\n</style>\n<table border=\"1\" class=\"dataframe\">\n  <thead>\n    <tr style=\"text-align: right;\">\n      <th></th>\n      <th>a</th>\n      <th>b</th>\n      <th>c</th>\n      <th>d</th>\n      <th>utl_a</th>\n      <th>utl_b</th>\n      <th>utl_c</th>\n      <th>utl_d</th>\n    </tr>\n  </thead>\n  <tbody>\n    <tr>\n      <th>216</th>\n      <td>0.0</td>\n      <td>0.05</td>\n      <td>0.70</td>\n      <td>0.10</td>\n      <td>0.025</td>\n      <td>0.050</td>\n      <td>0.600</td>\n      <td>0.325</td>\n    </tr>\n    <tr>\n      <th>559</th>\n      <td>0.0</td>\n      <td>0.10</td>\n      <td>0.70</td>\n      <td>0.15</td>\n      <td>0.050</td>\n      <td>0.075</td>\n      <td>0.575</td>\n      <td>0.300</td>\n    </tr>\n    <tr>\n      <th>902</th>\n      <td>0.0</td>\n      <td>0.15</td>\n      <td>0.70</td>\n      <td>0.20</td>\n      <td>0.075</td>\n      <td>0.100</td>\n      <td>0.550</td>\n      <td>0.275</td>\n    </tr>\n    <tr>\n      <th>1263</th>\n      <td>0.0</td>\n      <td>0.20</td>\n      <td>0.75</td>\n      <td>0.25</td>\n      <td>0.100</td>\n      <td>0.125</td>\n      <td>0.500</td>\n      <td>0.275</td>\n    </tr>\n    <tr>\n      <th>1606</th>\n      <td>0.0</td>\n      <td>0.25</td>\n      <td>0.75</td>\n      <td>0.30</td>\n      <td>0.125</td>\n      <td>0.150</td>\n      <td>0.475</td>\n      <td>0.250</td>\n    </tr>\n    <tr>\n      <th>1949</th>\n      <td>0.0</td>\n      <td>0.30</td>\n      <td>0.75</td>\n      <td>0.35</td>\n      <td>0.150</td>\n      <td>0.175</td>\n      <td>0.450</td>\n      <td>0.225</td>\n    </tr>\n    <tr>\n      <th>2310</th>\n      <td>0.0</td>\n      <td>0.35</td>\n      <td>0.80</td>\n      <td>0.40</td>\n      <td>0.175</td>\n      <td>0.200</td>\n      <td>0.400</td>\n      <td>0.225</td>\n    </tr>\n    <tr>\n      <th>2646</th>\n      <td>0.0</td>\n      <td>0.40</td>\n      <td>0.80</td>\n      <td>0.05</td>\n      <td>0.025</td>\n      <td>0.375</td>\n      <td>0.400</td>\n      <td>0.200</td>\n    </tr>\n    <tr>\n      <th>2647</th>\n      <td>0.0</td>\n      <td>0.40</td>\n      <td>0.80</td>\n      <td>0.10</td>\n      <td>0.050</td>\n      <td>0.350</td>\n      <td>0.400</td>\n      <td>0.200</td>\n    </tr>\n    <tr>\n      <th>2648</th>\n      <td>0.0</td>\n      <td>0.40</td>\n      <td>0.80</td>\n      <td>0.15</td>\n      <td>0.075</td>\n      <td>0.325</td>\n      <td>0.400</td>\n      <td>0.200</td>\n    </tr>\n    <tr>\n      <th>...</th>\n      <td>...</td>\n      <td>...</td>\n      <td>...</td>\n      <td>...</td>\n      <td>...</td>\n      <td>...</td>\n      <td>...</td>\n      <td>...</td>\n    </tr>\n    <tr>\n      <th>140991</th>\n      <td>1.0</td>\n      <td>0.60</td>\n      <td>0.20</td>\n      <td>0.85</td>\n      <td>0.075</td>\n      <td>0.325</td>\n      <td>0.400</td>\n      <td>0.200</td>\n    </tr>\n    <tr>\n      <th>140992</th>\n      <td>1.0</td>\n      <td>0.60</td>\n      <td>0.20</td>\n      <td>0.90</td>\n      <td>0.050</td>\n      <td>0.350</td>\n      <td>0.400</td>\n      <td>0.200</td>\n    </tr>\n    <tr>\n      <th>140993</th>\n      <td>1.0</td>\n      <td>0.60</td>\n      <td>0.20</td>\n      <td>0.95</td>\n      <td>0.025</td>\n      <td>0.375</td>\n      <td>0.400</td>\n      <td>0.200</td>\n    </tr>\n    <tr>\n      <th>141329</th>\n      <td>1.0</td>\n      <td>0.65</td>\n      <td>0.20</td>\n      <td>0.60</td>\n      <td>0.175</td>\n      <td>0.200</td>\n      <td>0.400</td>\n      <td>0.225</td>\n    </tr>\n    <tr>\n      <th>141690</th>\n      <td>1.0</td>\n      <td>0.70</td>\n      <td>0.25</td>\n      <td>0.65</td>\n      <td>0.150</td>\n      <td>0.175</td>\n      <td>0.450</td>\n      <td>0.225</td>\n    </tr>\n    <tr>\n      <th>142033</th>\n      <td>1.0</td>\n      <td>0.75</td>\n      <td>0.25</td>\n      <td>0.70</td>\n      <td>0.125</td>\n      <td>0.150</td>\n      <td>0.475</td>\n      <td>0.250</td>\n    </tr>\n    <tr>\n      <th>142376</th>\n      <td>1.0</td>\n      <td>0.80</td>\n      <td>0.25</td>\n      <td>0.75</td>\n      <td>0.100</td>\n      <td>0.125</td>\n      <td>0.500</td>\n      <td>0.275</td>\n    </tr>\n    <tr>\n      <th>142737</th>\n      <td>1.0</td>\n      <td>0.85</td>\n      <td>0.30</td>\n      <td>0.80</td>\n      <td>0.075</td>\n      <td>0.100</td>\n      <td>0.550</td>\n      <td>0.275</td>\n    </tr>\n    <tr>\n      <th>143080</th>\n      <td>1.0</td>\n      <td>0.90</td>\n      <td>0.30</td>\n      <td>0.85</td>\n      <td>0.050</td>\n      <td>0.075</td>\n      <td>0.575</td>\n      <td>0.300</td>\n    </tr>\n    <tr>\n      <th>143423</th>\n      <td>1.0</td>\n      <td>0.95</td>\n      <td>0.30</td>\n      <td>0.90</td>\n      <td>0.025</td>\n      <td>0.050</td>\n      <td>0.600</td>\n      <td>0.325</td>\n    </tr>\n  </tbody>\n</table>\n<p>2164 rows × 8 columns</p>\n</div>"
     },
     "metadata": {},
     "execution_count": 155
    }
   ],
   "source": [
    "df_max_ult_c = pd.DataFrame()\n",
    "for a in arr_a:\n",
    "    a = np.round(a,4)\n",
    "    for b in arr_b:\n",
    "        b = np.round(b,4)\n",
    "        if b == a:\n",
    "            continue\n",
    "        df_temp = df_max_ult_d[df.a==a][df.b==b]\n",
    "        df_max_ult_c = df_max_ult_c.append(df_temp[df.utl_c==max(df_temp.utl_c)])\n",
    "df_max_ult_c"
   ]
  },
  {
   "cell_type": "code",
   "execution_count": 156,
   "metadata": {},
   "outputs": [
    {
     "output_type": "execute_result",
     "data": {
      "text/plain": [
       "         a    b     c     d  utl_a  utl_b  utl_c  utl_d\n",
       "32637  0.2  0.8  0.45  0.15  0.150  0.375    0.3  0.175\n",
       "32648  0.2  0.8  0.45  0.85  0.325  0.200    0.3  0.175\n",
       "32655  0.2  0.8  0.50  0.15  0.175  0.350    0.3  0.175\n",
       "32666  0.2  0.8  0.50  0.85  0.350  0.175    0.3  0.175\n",
       "32673  0.2  0.8  0.55  0.15  0.200  0.325    0.3  0.175\n",
       "32684  0.2  0.8  0.55  0.85  0.375  0.150    0.3  0.175"
      ],
      "text/html": "<div>\n<style scoped>\n    .dataframe tbody tr th:only-of-type {\n        vertical-align: middle;\n    }\n\n    .dataframe tbody tr th {\n        vertical-align: top;\n    }\n\n    .dataframe thead th {\n        text-align: right;\n    }\n</style>\n<table border=\"1\" class=\"dataframe\">\n  <thead>\n    <tr style=\"text-align: right;\">\n      <th></th>\n      <th>a</th>\n      <th>b</th>\n      <th>c</th>\n      <th>d</th>\n      <th>utl_a</th>\n      <th>utl_b</th>\n      <th>utl_c</th>\n      <th>utl_d</th>\n    </tr>\n  </thead>\n  <tbody>\n    <tr>\n      <th>32637</th>\n      <td>0.2</td>\n      <td>0.8</td>\n      <td>0.45</td>\n      <td>0.15</td>\n      <td>0.150</td>\n      <td>0.375</td>\n      <td>0.3</td>\n      <td>0.175</td>\n    </tr>\n    <tr>\n      <th>32648</th>\n      <td>0.2</td>\n      <td>0.8</td>\n      <td>0.45</td>\n      <td>0.85</td>\n      <td>0.325</td>\n      <td>0.200</td>\n      <td>0.3</td>\n      <td>0.175</td>\n    </tr>\n    <tr>\n      <th>32655</th>\n      <td>0.2</td>\n      <td>0.8</td>\n      <td>0.50</td>\n      <td>0.15</td>\n      <td>0.175</td>\n      <td>0.350</td>\n      <td>0.3</td>\n      <td>0.175</td>\n    </tr>\n    <tr>\n      <th>32666</th>\n      <td>0.2</td>\n      <td>0.8</td>\n      <td>0.50</td>\n      <td>0.85</td>\n      <td>0.350</td>\n      <td>0.175</td>\n      <td>0.3</td>\n      <td>0.175</td>\n    </tr>\n    <tr>\n      <th>32673</th>\n      <td>0.2</td>\n      <td>0.8</td>\n      <td>0.55</td>\n      <td>0.15</td>\n      <td>0.200</td>\n      <td>0.325</td>\n      <td>0.3</td>\n      <td>0.175</td>\n    </tr>\n    <tr>\n      <th>32684</th>\n      <td>0.2</td>\n      <td>0.8</td>\n      <td>0.55</td>\n      <td>0.85</td>\n      <td>0.375</td>\n      <td>0.150</td>\n      <td>0.3</td>\n      <td>0.175</td>\n    </tr>\n  </tbody>\n</table>\n</div>"
     },
     "metadata": {},
     "execution_count": 156
    }
   ],
   "source": [
    "df_max_ult_c[df_max_ult_c.a==0.2][df_max_ult_c.b==0.8]"
   ]
  },
  {
   "cell_type": "code",
   "execution_count": 157,
   "metadata": {},
   "outputs": [
    {
     "output_type": "execute_result",
     "data": {
      "text/plain": [
       "           a     b     c     d  utl_a  utl_b  utl_c  utl_d\n",
       "5256    0.00  0.80  0.40  0.05  0.025  0.400  0.375  0.200\n",
       "12115   0.05  0.80  0.45  0.10  0.075  0.375  0.350  0.200\n",
       "16670   0.10  0.45  0.80  0.15  0.125  0.325  0.375  0.175\n",
       "17012   0.10  0.50  0.80  0.15  0.125  0.325  0.350  0.200\n",
       "19316   0.10  0.85  0.50  0.15  0.125  0.325  0.350  0.200\n",
       "26157   0.15  0.85  0.50  0.20  0.175  0.325  0.325  0.175\n",
       "32637   0.20  0.80  0.45  0.15  0.150  0.375  0.300  0.175\n",
       "39082   0.25  0.75  0.30  0.20  0.050  0.475  0.250  0.225\n",
       "45923   0.30  0.75  0.25  0.35  0.050  0.450  0.275  0.225\n",
       "53106   0.35  0.80  0.25  0.40  0.075  0.400  0.300  0.225\n",
       "...      ...   ...   ...   ...    ...    ...    ...    ...\n",
       "90533   0.65  0.20  0.75  0.60  0.075  0.400  0.300  0.225\n",
       "97716   0.70  0.25  0.75  0.65  0.050  0.450  0.275  0.225\n",
       "104557  0.75  0.25  0.70  0.80  0.050  0.475  0.250  0.225\n",
       "111002  0.80  0.20  0.55  0.85  0.150  0.375  0.300  0.175\n",
       "117482  0.85  0.15  0.50  0.80  0.175  0.325  0.325  0.175\n",
       "124323  0.90  0.15  0.50  0.85  0.125  0.325  0.350  0.200\n",
       "126627  0.90  0.50  0.20  0.85  0.125  0.325  0.350  0.200\n",
       "126969  0.90  0.55  0.20  0.85  0.125  0.325  0.375  0.175\n",
       "131524  0.95  0.20  0.55  0.90  0.075  0.375  0.350  0.200\n",
       "138383  1.00  0.20  0.60  0.95  0.025  0.400  0.375  0.200\n",
       "\n",
       "[26 rows x 8 columns]"
      ],
      "text/html": "<div>\n<style scoped>\n    .dataframe tbody tr th:only-of-type {\n        vertical-align: middle;\n    }\n\n    .dataframe tbody tr th {\n        vertical-align: top;\n    }\n\n    .dataframe thead th {\n        text-align: right;\n    }\n</style>\n<table border=\"1\" class=\"dataframe\">\n  <thead>\n    <tr style=\"text-align: right;\">\n      <th></th>\n      <th>a</th>\n      <th>b</th>\n      <th>c</th>\n      <th>d</th>\n      <th>utl_a</th>\n      <th>utl_b</th>\n      <th>utl_c</th>\n      <th>utl_d</th>\n    </tr>\n  </thead>\n  <tbody>\n    <tr>\n      <th>5256</th>\n      <td>0.00</td>\n      <td>0.80</td>\n      <td>0.40</td>\n      <td>0.05</td>\n      <td>0.025</td>\n      <td>0.400</td>\n      <td>0.375</td>\n      <td>0.200</td>\n    </tr>\n    <tr>\n      <th>12115</th>\n      <td>0.05</td>\n      <td>0.80</td>\n      <td>0.45</td>\n      <td>0.10</td>\n      <td>0.075</td>\n      <td>0.375</td>\n      <td>0.350</td>\n      <td>0.200</td>\n    </tr>\n    <tr>\n      <th>16670</th>\n      <td>0.10</td>\n      <td>0.45</td>\n      <td>0.80</td>\n      <td>0.15</td>\n      <td>0.125</td>\n      <td>0.325</td>\n      <td>0.375</td>\n      <td>0.175</td>\n    </tr>\n    <tr>\n      <th>17012</th>\n      <td>0.10</td>\n      <td>0.50</td>\n      <td>0.80</td>\n      <td>0.15</td>\n      <td>0.125</td>\n      <td>0.325</td>\n      <td>0.350</td>\n      <td>0.200</td>\n    </tr>\n    <tr>\n      <th>19316</th>\n      <td>0.10</td>\n      <td>0.85</td>\n      <td>0.50</td>\n      <td>0.15</td>\n      <td>0.125</td>\n      <td>0.325</td>\n      <td>0.350</td>\n      <td>0.200</td>\n    </tr>\n    <tr>\n      <th>26157</th>\n      <td>0.15</td>\n      <td>0.85</td>\n      <td>0.50</td>\n      <td>0.20</td>\n      <td>0.175</td>\n      <td>0.325</td>\n      <td>0.325</td>\n      <td>0.175</td>\n    </tr>\n    <tr>\n      <th>32637</th>\n      <td>0.20</td>\n      <td>0.80</td>\n      <td>0.45</td>\n      <td>0.15</td>\n      <td>0.150</td>\n      <td>0.375</td>\n      <td>0.300</td>\n      <td>0.175</td>\n    </tr>\n    <tr>\n      <th>39082</th>\n      <td>0.25</td>\n      <td>0.75</td>\n      <td>0.30</td>\n      <td>0.20</td>\n      <td>0.050</td>\n      <td>0.475</td>\n      <td>0.250</td>\n      <td>0.225</td>\n    </tr>\n    <tr>\n      <th>45923</th>\n      <td>0.30</td>\n      <td>0.75</td>\n      <td>0.25</td>\n      <td>0.35</td>\n      <td>0.050</td>\n      <td>0.450</td>\n      <td>0.275</td>\n      <td>0.225</td>\n    </tr>\n    <tr>\n      <th>53106</th>\n      <td>0.35</td>\n      <td>0.80</td>\n      <td>0.25</td>\n      <td>0.40</td>\n      <td>0.075</td>\n      <td>0.400</td>\n      <td>0.300</td>\n      <td>0.225</td>\n    </tr>\n    <tr>\n      <th>...</th>\n      <td>...</td>\n      <td>...</td>\n      <td>...</td>\n      <td>...</td>\n      <td>...</td>\n      <td>...</td>\n      <td>...</td>\n      <td>...</td>\n    </tr>\n    <tr>\n      <th>90533</th>\n      <td>0.65</td>\n      <td>0.20</td>\n      <td>0.75</td>\n      <td>0.60</td>\n      <td>0.075</td>\n      <td>0.400</td>\n      <td>0.300</td>\n      <td>0.225</td>\n    </tr>\n    <tr>\n      <th>97716</th>\n      <td>0.70</td>\n      <td>0.25</td>\n      <td>0.75</td>\n      <td>0.65</td>\n      <td>0.050</td>\n      <td>0.450</td>\n      <td>0.275</td>\n      <td>0.225</td>\n    </tr>\n    <tr>\n      <th>104557</th>\n      <td>0.75</td>\n      <td>0.25</td>\n      <td>0.70</td>\n      <td>0.80</td>\n      <td>0.050</td>\n      <td>0.475</td>\n      <td>0.250</td>\n      <td>0.225</td>\n    </tr>\n    <tr>\n      <th>111002</th>\n      <td>0.80</td>\n      <td>0.20</td>\n      <td>0.55</td>\n      <td>0.85</td>\n      <td>0.150</td>\n      <td>0.375</td>\n      <td>0.300</td>\n      <td>0.175</td>\n    </tr>\n    <tr>\n      <th>117482</th>\n      <td>0.85</td>\n      <td>0.15</td>\n      <td>0.50</td>\n      <td>0.80</td>\n      <td>0.175</td>\n      <td>0.325</td>\n      <td>0.325</td>\n      <td>0.175</td>\n    </tr>\n    <tr>\n      <th>124323</th>\n      <td>0.90</td>\n      <td>0.15</td>\n      <td>0.50</td>\n      <td>0.85</td>\n      <td>0.125</td>\n      <td>0.325</td>\n      <td>0.350</td>\n      <td>0.200</td>\n    </tr>\n    <tr>\n      <th>126627</th>\n      <td>0.90</td>\n      <td>0.50</td>\n      <td>0.20</td>\n      <td>0.85</td>\n      <td>0.125</td>\n      <td>0.325</td>\n      <td>0.350</td>\n      <td>0.200</td>\n    </tr>\n    <tr>\n      <th>126969</th>\n      <td>0.90</td>\n      <td>0.55</td>\n      <td>0.20</td>\n      <td>0.85</td>\n      <td>0.125</td>\n      <td>0.325</td>\n      <td>0.375</td>\n      <td>0.175</td>\n    </tr>\n    <tr>\n      <th>131524</th>\n      <td>0.95</td>\n      <td>0.20</td>\n      <td>0.55</td>\n      <td>0.90</td>\n      <td>0.075</td>\n      <td>0.375</td>\n      <td>0.350</td>\n      <td>0.200</td>\n    </tr>\n    <tr>\n      <th>138383</th>\n      <td>1.00</td>\n      <td>0.20</td>\n      <td>0.60</td>\n      <td>0.95</td>\n      <td>0.025</td>\n      <td>0.400</td>\n      <td>0.375</td>\n      <td>0.200</td>\n    </tr>\n  </tbody>\n</table>\n<p>26 rows × 8 columns</p>\n</div>"
     },
     "metadata": {},
     "execution_count": 157
    }
   ],
   "source": [
    "df_max_ult_b = pd.DataFrame()\n",
    "for a in arr_a:\n",
    "    a = np.round(a,4)\n",
    "    df_temp = df_max_ult_c[df_max_ult_c.a==a]\n",
    "    df_max_ult_b = df_max_ult_b.append(df_temp[df.utl_b==max(df_temp.utl_b)])\n",
    "df_max_ult_b"
   ]
  },
  {
   "cell_type": "code",
   "execution_count": 158,
   "metadata": {},
   "outputs": [
    {
     "output_type": "execute_result",
     "data": {
      "text/plain": [
       "           a     b    c     d  utl_a  utl_b  utl_c  utl_d\n",
       "26157   0.15  0.85  0.5  0.20  0.175  0.325  0.325  0.175\n",
       "69686   0.50  0.15  0.8  0.45  0.175  0.300  0.350  0.175\n",
       "73953   0.50  0.85  0.2  0.55  0.175  0.300  0.350  0.175\n",
       "117482  0.85  0.15  0.5  0.80  0.175  0.325  0.325  0.175"
      ],
      "text/html": "<div>\n<style scoped>\n    .dataframe tbody tr th:only-of-type {\n        vertical-align: middle;\n    }\n\n    .dataframe tbody tr th {\n        vertical-align: top;\n    }\n\n    .dataframe thead th {\n        text-align: right;\n    }\n</style>\n<table border=\"1\" class=\"dataframe\">\n  <thead>\n    <tr style=\"text-align: right;\">\n      <th></th>\n      <th>a</th>\n      <th>b</th>\n      <th>c</th>\n      <th>d</th>\n      <th>utl_a</th>\n      <th>utl_b</th>\n      <th>utl_c</th>\n      <th>utl_d</th>\n    </tr>\n  </thead>\n  <tbody>\n    <tr>\n      <th>26157</th>\n      <td>0.15</td>\n      <td>0.85</td>\n      <td>0.5</td>\n      <td>0.20</td>\n      <td>0.175</td>\n      <td>0.325</td>\n      <td>0.325</td>\n      <td>0.175</td>\n    </tr>\n    <tr>\n      <th>69686</th>\n      <td>0.50</td>\n      <td>0.15</td>\n      <td>0.8</td>\n      <td>0.45</td>\n      <td>0.175</td>\n      <td>0.300</td>\n      <td>0.350</td>\n      <td>0.175</td>\n    </tr>\n    <tr>\n      <th>73953</th>\n      <td>0.50</td>\n      <td>0.85</td>\n      <td>0.2</td>\n      <td>0.55</td>\n      <td>0.175</td>\n      <td>0.300</td>\n      <td>0.350</td>\n      <td>0.175</td>\n    </tr>\n    <tr>\n      <th>117482</th>\n      <td>0.85</td>\n      <td>0.15</td>\n      <td>0.5</td>\n      <td>0.80</td>\n      <td>0.175</td>\n      <td>0.325</td>\n      <td>0.325</td>\n      <td>0.175</td>\n    </tr>\n  </tbody>\n</table>\n</div>"
     },
     "metadata": {},
     "execution_count": 158
    }
   ],
   "source": [
    "# epsilon = 0.05\n",
    "df_max_ult_a = pd.DataFrame()\n",
    "df_temp = df_max_ult_b\n",
    "df_max_ult_a = df_max_ult_a.append(df_temp[df.utl_a==max(df_temp.utl_a)])\n",
    "df_max_ult_a"
   ]
  },
  {
   "cell_type": "code",
   "execution_count": 150,
   "metadata": {},
   "outputs": [
    {
     "output_type": "execute_result",
     "data": {
      "text/plain": [
       "        a     b      c      d  utl_a   utl_b   utl_c  utl_d\n",
       "4894  0.5  0.83  0.175  0.525  0.175  0.3225  0.3375  0.165"
      ],
      "text/html": "<div>\n<style scoped>\n    .dataframe tbody tr th:only-of-type {\n        vertical-align: middle;\n    }\n\n    .dataframe tbody tr th {\n        vertical-align: top;\n    }\n\n    .dataframe thead th {\n        text-align: right;\n    }\n</style>\n<table border=\"1\" class=\"dataframe\">\n  <thead>\n    <tr style=\"text-align: right;\">\n      <th></th>\n      <th>a</th>\n      <th>b</th>\n      <th>c</th>\n      <th>d</th>\n      <th>utl_a</th>\n      <th>utl_b</th>\n      <th>utl_c</th>\n      <th>utl_d</th>\n    </tr>\n  </thead>\n  <tbody>\n    <tr>\n      <th>4894</th>\n      <td>0.5</td>\n      <td>0.83</td>\n      <td>0.175</td>\n      <td>0.525</td>\n      <td>0.175</td>\n      <td>0.3225</td>\n      <td>0.3375</td>\n      <td>0.165</td>\n    </tr>\n  </tbody>\n</table>\n</div>"
     },
     "metadata": {},
     "execution_count": 150
    }
   ],
   "source": [
    "# a = 0.5\n",
    "df_max_ult_a = pd.DataFrame()\n",
    "df_temp = df_max_ult_b\n",
    "df_max_ult_a = df_max_ult_a.append(df_temp[df.utl_a==max(df_temp.utl_a)])\n",
    "df_max_ult_a"
   ]
  },
  {
   "cell_type": "code",
   "execution_count": 142,
   "metadata": {},
   "outputs": [
    {
     "output_type": "execute_result",
     "data": {
      "text/plain": [
       "           a     b    c      d   utl_a  utl_b   utl_c  utl_d\n",
       "128499  0.17  0.83  0.5  0.175  0.1725  0.335  0.3275  0.165"
      ],
      "text/html": "<div>\n<style scoped>\n    .dataframe tbody tr th:only-of-type {\n        vertical-align: middle;\n    }\n\n    .dataframe tbody tr th {\n        vertical-align: top;\n    }\n\n    .dataframe thead th {\n        text-align: right;\n    }\n</style>\n<table border=\"1\" class=\"dataframe\">\n  <thead>\n    <tr style=\"text-align: right;\">\n      <th></th>\n      <th>a</th>\n      <th>b</th>\n      <th>c</th>\n      <th>d</th>\n      <th>utl_a</th>\n      <th>utl_b</th>\n      <th>utl_c</th>\n      <th>utl_d</th>\n    </tr>\n  </thead>\n  <tbody>\n    <tr>\n      <th>128499</th>\n      <td>0.17</td>\n      <td>0.83</td>\n      <td>0.5</td>\n      <td>0.175</td>\n      <td>0.1725</td>\n      <td>0.335</td>\n      <td>0.3275</td>\n      <td>0.165</td>\n    </tr>\n  </tbody>\n</table>\n</div>"
     },
     "metadata": {},
     "execution_count": 142
    }
   ],
   "source": [
    "# 0.01 but restricted space\n",
    "df_max_ult_a = pd.DataFrame()\n",
    "df_temp = df_max_ult_b\n",
    "df_max_ult_a = df_max_ult_a.append(df_temp[df.utl_a==max(df_temp.utl_a)])\n",
    "df_max_ult_a"
   ]
  },
  {
   "cell_type": "code",
   "execution_count": 17,
   "metadata": {},
   "outputs": [
    {
     "output_type": "execute_result",
     "data": {
      "text/plain": [
       "        a    b    c    d  utl_a  utl_b  utl_c  utl_d\n",
       "1977  0.2  0.8  0.5  0.1    0.2   0.35   0.30   0.15\n",
       "3795  0.5  0.2  0.8  0.4    0.2   0.30   0.35   0.15\n",
       "4124  0.5  0.8  0.2  0.6    0.2   0.30   0.35   0.15\n",
       "5942  0.8  0.2  0.5  0.9    0.2   0.35   0.30   0.15"
      ],
      "text/html": "<div>\n<style scoped>\n    .dataframe tbody tr th:only-of-type {\n        vertical-align: middle;\n    }\n\n    .dataframe tbody tr th {\n        vertical-align: top;\n    }\n\n    .dataframe thead th {\n        text-align: right;\n    }\n</style>\n<table border=\"1\" class=\"dataframe\">\n  <thead>\n    <tr style=\"text-align: right;\">\n      <th></th>\n      <th>a</th>\n      <th>b</th>\n      <th>c</th>\n      <th>d</th>\n      <th>utl_a</th>\n      <th>utl_b</th>\n      <th>utl_c</th>\n      <th>utl_d</th>\n    </tr>\n  </thead>\n  <tbody>\n    <tr>\n      <th>1977</th>\n      <td>0.2</td>\n      <td>0.8</td>\n      <td>0.5</td>\n      <td>0.1</td>\n      <td>0.2</td>\n      <td>0.35</td>\n      <td>0.30</td>\n      <td>0.15</td>\n    </tr>\n    <tr>\n      <th>3795</th>\n      <td>0.5</td>\n      <td>0.2</td>\n      <td>0.8</td>\n      <td>0.4</td>\n      <td>0.2</td>\n      <td>0.30</td>\n      <td>0.35</td>\n      <td>0.15</td>\n    </tr>\n    <tr>\n      <th>4124</th>\n      <td>0.5</td>\n      <td>0.8</td>\n      <td>0.2</td>\n      <td>0.6</td>\n      <td>0.2</td>\n      <td>0.30</td>\n      <td>0.35</td>\n      <td>0.15</td>\n    </tr>\n    <tr>\n      <th>5942</th>\n      <td>0.8</td>\n      <td>0.2</td>\n      <td>0.5</td>\n      <td>0.9</td>\n      <td>0.2</td>\n      <td>0.35</td>\n      <td>0.30</td>\n      <td>0.15</td>\n    </tr>\n  </tbody>\n</table>\n</div>"
     },
     "metadata": {},
     "execution_count": 17
    }
   ],
   "source": [
    "#epsilon = 0.1\n",
    "df_max_ult_a = pd.DataFrame()\n",
    "df_temp = df_max_ult_b\n",
    "df_max_ult_a = df_max_ult_a.append(df_temp[df.utl_a==max(df_temp.utl_a)])\n",
    "df_max_ult_a"
   ]
  },
  {
   "cell_type": "code",
   "execution_count": null,
   "metadata": {},
   "outputs": [],
   "source": []
  }
 ]
}