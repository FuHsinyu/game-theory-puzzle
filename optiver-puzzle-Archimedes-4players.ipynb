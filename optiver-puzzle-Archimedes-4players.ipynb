{
 "metadata": {
  "language_info": {
   "codemirror_mode": {
    "name": "ipython",
    "version": 3
   },
   "file_extension": ".py",
   "mimetype": "text/x-python",
   "name": "python",
   "nbconvert_exporter": "python",
   "pygments_lexer": "ipython3",
   "version": "3.7.1-final"
  },
  "orig_nbformat": 2,
  "kernelspec": {
   "name": "python3",
   "display_name": "Python 3",
   "language": "python"
  }
 },
 "nbformat": 4,
 "nbformat_minor": 2,
 "cells": [
  {
   "cell_type": "code",
   "execution_count": 23,
   "metadata": {},
   "outputs": [],
   "source": [
    "import numpy as np\n",
    "import pandas as pd\n",
    "import seaborn as sns\n",
    "import matplotlib.pyplot as plt\n",
    "import warnings\n",
    "import warnings\n",
    "warnings.filterwarnings(\"ignore\")\n",
    "pd.set_option('display.max_rows', 20)"
   ]
  },
  {
   "cell_type": "code",
   "execution_count": 25,
   "metadata": {},
   "outputs": [],
   "source": [
    "'''\n",
    "a #number picked by A\n",
    "A #Player A\n",
    "ult_a #utility of A\n",
    "'''\n",
    "\n",
    "n = 4  # Num of palyers\n",
    "epsilon = 0.05 #stepsize\n"
   ]
  },
  {
   "cell_type": "code",
   "execution_count": null,
   "metadata": {},
   "outputs": [],
   "source": []
  },
  {
   "cell_type": "code",
   "execution_count": 28,
   "metadata": {},
   "outputs": [
    {
     "output_type": "execute_result",
     "data": {
      "text/plain": [
       "{'bounder_l': 0,\n",
       " 'a': 0.1,\n",
       " 'c': 0.2,\n",
       " 'b': 0.3,\n",
       " 'd': 0.6,\n",
       " 'bounder_r': 1,\n",
       " 'utl_a': 0.15,\n",
       " 'utl_c': 0.1,\n",
       " 'utl_b': 0.2,\n",
       " 'utl_d': 0.55}"
      ]
     },
     "metadata": {},
     "execution_count": 28
    }
   ],
   "source": [
    "def get_utl_of_a_palyer(ord_picks,p_index,p_name):\n",
    "    if p_index == 1:\n",
    "        ult = ord_picks[p_index]-ord_picks[0] + (ord_picks[p_index+1]-ord_picks[p_index])/2\n",
    "    elif p_index == len(ord_picks)-2:\n",
    "        ult = ord_picks[-1]-ord_picks[p_index] + (ord_picks[p_index]-ord_picks[p_index-1])/2\n",
    "    else:\n",
    "        ult = (ord_picks[p_index+1]-ord_picks[p_index-1])/2\n",
    "    return {\"utl_\"+p_name:np.round(ult,4)}\n",
    "\n",
    "def get_utl_for_each_palyer(picks_dic):\n",
    "    utl_dic = {}\n",
    "    ord_picks_dic = {k: v for k, v in sorted(picks_dic.items(), key=lambda item: item[1])}\n",
    "    for p_index in range(1,n+1):\n",
    "        utl_dic.update(get_utl_of_a_palyer(list(ord_picks_dic.values()),p_index,list(ord_picks_dic.keys())[p_index],))\n",
    "    ord_picks_dic.update(utl_dic)\n",
    "    return ord_picks_dic\n",
    "#test\n",
    "picks_dic={}\n",
    "picks_dic[\"bounder_l\"] = 0\n",
    "picks_dic[\"a\"] = 0.1\n",
    "picks_dic[\"b\"] = 0.3\n",
    "picks_dic[\"c\"] = 0.2\n",
    "picks_dic[\"d\"] = 0.6\n",
    "picks_dic[\"bounder_r\"] = 1\n",
    "get_utl_for_each_palyer(picks_dic)\n"
   ]
  },
  {
   "cell_type": "code",
   "execution_count": 133,
   "metadata": {},
   "outputs": [],
   "source": [
    "epsilon = 0.01\n",
    "arr_a = np.arange(0.1,0.2+epsilon,step=epsilon)\n",
    "arr_b = np.arange(0.8,0.9+epsilon,step=epsilon)\n",
    "arr_c = np.arange(0,1+0.025,step=0.025)\n",
    "arr_d = np.arange(0,1+0.025,step=0.025)"
   ]
  },
  {
   "cell_type": "code",
   "execution_count": 124,
   "metadata": {},
   "outputs": [
    {
     "output_type": "stream",
     "name": "stdout",
     "text": [
      "Progress:10.0/100\n",
      "Progress:11.0/100\n",
      "Progress:12.0/100\n",
      "Progress:13.0/100\n"
     ]
    },
    {
     "output_type": "error",
     "ename": "KeyboardInterrupt",
     "evalue": "",
     "traceback": [
      "\u001b[1;31m---------------------------------------------------------------------------\u001b[0m",
      "\u001b[1;31mKeyboardInterrupt\u001b[0m                         Traceback (most recent call last)",
      "\u001b[1;32m<ipython-input-124-9f1b978dbbc6>\u001b[0m in \u001b[0;36m<module>\u001b[1;34m\u001b[0m\n\u001b[0;32m     24\u001b[0m                 \u001b[0mpicks_dic\u001b[0m\u001b[1;33m[\u001b[0m\u001b[1;34m\"bounder_r\"\u001b[0m\u001b[1;33m]\u001b[0m \u001b[1;33m=\u001b[0m \u001b[1;36m1\u001b[0m\u001b[1;33m\u001b[0m\u001b[1;33m\u001b[0m\u001b[0m\n\u001b[0;32m     25\u001b[0m                 \u001b[0mrow_dic\u001b[0m \u001b[1;33m=\u001b[0m \u001b[0mget_utl_for_each_palyer\u001b[0m\u001b[1;33m(\u001b[0m\u001b[0mpicks_dic\u001b[0m\u001b[1;33m)\u001b[0m\u001b[1;33m\u001b[0m\u001b[1;33m\u001b[0m\u001b[0m\n\u001b[1;32m---> 26\u001b[1;33m                 \u001b[0mdf\u001b[0m \u001b[1;33m=\u001b[0m \u001b[0mdf\u001b[0m\u001b[1;33m.\u001b[0m\u001b[0mappend\u001b[0m\u001b[1;33m(\u001b[0m\u001b[0mrow_dic\u001b[0m\u001b[1;33m,\u001b[0m\u001b[0mignore_index\u001b[0m \u001b[1;33m=\u001b[0m \u001b[1;32mTrue\u001b[0m\u001b[1;33m)\u001b[0m\u001b[1;33m\u001b[0m\u001b[1;33m\u001b[0m\u001b[0m\n\u001b[0m\u001b[0;32m     27\u001b[0m \u001b[0mdf\u001b[0m \u001b[1;33m=\u001b[0m \u001b[0mdf\u001b[0m\u001b[1;33m.\u001b[0m\u001b[0mdrop\u001b[0m\u001b[1;33m(\u001b[0m\u001b[0mcolumns\u001b[0m\u001b[1;33m=\u001b[0m\u001b[1;33m[\u001b[0m\u001b[1;34m\"bounder_l\"\u001b[0m\u001b[1;33m,\u001b[0m\u001b[1;34m\"bounder_r\"\u001b[0m\u001b[1;33m]\u001b[0m\u001b[1;33m)\u001b[0m\u001b[1;33m\u001b[0m\u001b[1;33m\u001b[0m\u001b[0m\n",
      "\u001b[1;32m~\\Anaconda3\\envs\\python3\\lib\\site-packages\\pandas\\core\\frame.py\u001b[0m in \u001b[0;36mappend\u001b[1;34m(self, other, ignore_index, verify_integrity, sort)\u001b[0m\n\u001b[0;32m   6209\u001b[0m         return concat(to_concat, ignore_index=ignore_index,\n\u001b[0;32m   6210\u001b[0m                       \u001b[0mverify_integrity\u001b[0m\u001b[1;33m=\u001b[0m\u001b[0mverify_integrity\u001b[0m\u001b[1;33m,\u001b[0m\u001b[1;33m\u001b[0m\u001b[1;33m\u001b[0m\u001b[0m\n\u001b[1;32m-> 6211\u001b[1;33m                       sort=sort)\n\u001b[0m\u001b[0;32m   6212\u001b[0m \u001b[1;33m\u001b[0m\u001b[0m\n\u001b[0;32m   6213\u001b[0m     def join(self, other, on=None, how='left', lsuffix='', rsuffix='',\n",
      "\u001b[1;32m~\\Anaconda3\\envs\\python3\\lib\\site-packages\\pandas\\core\\reshape\\concat.py\u001b[0m in \u001b[0;36mconcat\u001b[1;34m(objs, axis, join, join_axes, ignore_index, keys, levels, names, verify_integrity, sort, copy)\u001b[0m\n\u001b[0;32m    224\u001b[0m                        \u001b[0mverify_integrity\u001b[0m\u001b[1;33m=\u001b[0m\u001b[0mverify_integrity\u001b[0m\u001b[1;33m,\u001b[0m\u001b[1;33m\u001b[0m\u001b[1;33m\u001b[0m\u001b[0m\n\u001b[0;32m    225\u001b[0m                        copy=copy, sort=sort)\n\u001b[1;32m--> 226\u001b[1;33m     \u001b[1;32mreturn\u001b[0m \u001b[0mop\u001b[0m\u001b[1;33m.\u001b[0m\u001b[0mget_result\u001b[0m\u001b[1;33m(\u001b[0m\u001b[1;33m)\u001b[0m\u001b[1;33m\u001b[0m\u001b[1;33m\u001b[0m\u001b[0m\n\u001b[0m\u001b[0;32m    227\u001b[0m \u001b[1;33m\u001b[0m\u001b[0m\n\u001b[0;32m    228\u001b[0m \u001b[1;33m\u001b[0m\u001b[0m\n",
      "\u001b[1;32m~\\Anaconda3\\envs\\python3\\lib\\site-packages\\pandas\\core\\reshape\\concat.py\u001b[0m in \u001b[0;36mget_result\u001b[1;34m(self)\u001b[0m\n\u001b[0;32m    421\u001b[0m             new_data = concatenate_block_managers(\n\u001b[0;32m    422\u001b[0m                 \u001b[0mmgrs_indexers\u001b[0m\u001b[1;33m,\u001b[0m \u001b[0mself\u001b[0m\u001b[1;33m.\u001b[0m\u001b[0mnew_axes\u001b[0m\u001b[1;33m,\u001b[0m \u001b[0mconcat_axis\u001b[0m\u001b[1;33m=\u001b[0m\u001b[0mself\u001b[0m\u001b[1;33m.\u001b[0m\u001b[0maxis\u001b[0m\u001b[1;33m,\u001b[0m\u001b[1;33m\u001b[0m\u001b[1;33m\u001b[0m\u001b[0m\n\u001b[1;32m--> 423\u001b[1;33m                 copy=self.copy)\n\u001b[0m\u001b[0;32m    424\u001b[0m             \u001b[1;32mif\u001b[0m \u001b[1;32mnot\u001b[0m \u001b[0mself\u001b[0m\u001b[1;33m.\u001b[0m\u001b[0mcopy\u001b[0m\u001b[1;33m:\u001b[0m\u001b[1;33m\u001b[0m\u001b[1;33m\u001b[0m\u001b[0m\n\u001b[0;32m    425\u001b[0m                 \u001b[0mnew_data\u001b[0m\u001b[1;33m.\u001b[0m\u001b[0m_consolidate_inplace\u001b[0m\u001b[1;33m(\u001b[0m\u001b[1;33m)\u001b[0m\u001b[1;33m\u001b[0m\u001b[1;33m\u001b[0m\u001b[0m\n",
      "\u001b[1;32m~\\Anaconda3\\envs\\python3\\lib\\site-packages\\pandas\\core\\internals.py\u001b[0m in \u001b[0;36mconcatenate_block_managers\u001b[1;34m(mgrs_indexers, axes, concat_axis, copy)\u001b[0m\n\u001b[0;32m   5416\u001b[0m         \u001b[1;32melif\u001b[0m \u001b[0mis_uniform_join_units\u001b[0m\u001b[1;33m(\u001b[0m\u001b[0mjoin_units\u001b[0m\u001b[1;33m)\u001b[0m\u001b[1;33m:\u001b[0m\u001b[1;33m\u001b[0m\u001b[1;33m\u001b[0m\u001b[0m\n\u001b[0;32m   5417\u001b[0m             b = join_units[0].block.concat_same_type(\n\u001b[1;32m-> 5418\u001b[1;33m                 [ju.block for ju in join_units], placement=placement)\n\u001b[0m\u001b[0;32m   5419\u001b[0m         \u001b[1;32melse\u001b[0m\u001b[1;33m:\u001b[0m\u001b[1;33m\u001b[0m\u001b[1;33m\u001b[0m\u001b[0m\n\u001b[0;32m   5420\u001b[0m             b = make_block(\n",
      "\u001b[1;32m~\\Anaconda3\\envs\\python3\\lib\\site-packages\\pandas\\core\\internals.py\u001b[0m in \u001b[0;36mconcat_same_type\u001b[1;34m(self, to_concat, placement)\u001b[0m\n\u001b[0;32m    366\u001b[0m         \"\"\"\n\u001b[0;32m    367\u001b[0m         values = self._concatenator([blk.values for blk in to_concat],\n\u001b[1;32m--> 368\u001b[1;33m                                     axis=self.ndim - 1)\n\u001b[0m\u001b[0;32m    369\u001b[0m         return self.make_block_same_class(\n\u001b[0;32m    370\u001b[0m             values, placement=placement or slice(0, len(values), 1))\n",
      "\u001b[1;31mKeyboardInterrupt\u001b[0m: "
     ]
    }
   ],
   "source": [
    "#%%time\n",
    "#columns = [\"bounder_l\",\"a\",\"b\",\"c\",\"bounder_r\",\"utl_a\",\"utl_b\",\"utl_c\"]\n",
    "df = pd.DataFrame()\n",
    "picks_dic = {}\n",
    "picks_dic[\"bounder_l\"] = 0\n",
    "for a in arr_a:\n",
    "    a = np.round(a,4)\n",
    "    print(\"Progress:{}/100\".format(a*100))\n",
    "    picks_dic[\"a\"] = a\n",
    "    for b in arr_b:\n",
    "        b = np.round(b,4)\n",
    "        if b == a:\n",
    "            continue\n",
    "        picks_dic[\"b\"] = b\n",
    "        for c in arr_c:\n",
    "            c = np.round(c,4)\n",
    "            if c==b or c==a:\n",
    "                continue\n",
    "            picks_dic[\"c\"] = c\n",
    "            for d in arr_d:\n",
    "                d = np.round(d,4)\n",
    "                if d==c or d==b or d==a:\n",
    "                    continue\n",
    "                picks_dic[\"d\"] = d\n",
    "                picks_dic[\"bounder_r\"] = 1\n",
    "                row_dic = get_utl_for_each_palyer(picks_dic)\n",
    "                df = df.append(row_dic,ignore_index = True)\n",
    "df = df.drop(columns=[\"bounder_l\",\"bounder_r\"])"
   ]
  },
  {
   "cell_type": "code",
   "execution_count": null,
   "metadata": {},
   "outputs": [],
   "source": [
    "#0.2\t0.8\t0.5\t0.1\n",
    "df_max_ult_b[df_max_ult_b.a==0.15]"
   ]
  },
  {
   "cell_type": "code",
   "execution_count": null,
   "metadata": {},
   "outputs": [],
   "source": [
    "df[df.a==0.15]"
   ]
  },
  {
   "cell_type": "code",
   "execution_count": null,
   "metadata": {
    "tags": []
   },
   "outputs": [],
   "source": [
    "df_max_ult_d = pd.DataFrame()\n",
    "for a in arr_a:\n",
    "    a = np.round(a,4)\n",
    "    for b in arr_b:\n",
    "        b = np.round(b,4)\n",
    "        if b == a:\n",
    "            continue\n",
    "        for c in arr_c:\n",
    "            c = np.round(c,4)\n",
    "            if c==b or c==a:\n",
    "                continue\n",
    "            #print(a,b,c)\n",
    "            df_temp = df[df.a==a][df.b==b][df.c==c]\n",
    "            df_max_ult_d = df_max_ult_d.append(df_temp[df.utl_d==max(df_temp.utl_d)])\n",
    "            #print(df_max_ult_d)\n",
    "df_max_ult_d"
   ]
  },
  {
   "cell_type": "code",
   "execution_count": null,
   "metadata": {
    "tags": []
   },
   "outputs": [],
   "source": [
    "df_max_ult_c = pd.DataFrame()\n",
    "for a in arr_a:\n",
    "    a = np.round(a,4)\n",
    "    for b in arr_b:\n",
    "        b = np.round(b,4)\n",
    "        if b == a:\n",
    "            continue\n",
    "        df_temp = df_max_ult_d[df.a==a][df.b==b]\n",
    "        df_max_ult_c = df_max_ult_c.append(df_temp[df.utl_c==max(df_temp.utl_c)])\n",
    "df_max_ult_c"
   ]
  },
  {
   "cell_type": "code",
   "execution_count": null,
   "metadata": {},
   "outputs": [],
   "source": [
    "df_max_ult_c[df_max_ult_c.a==0.2][df_max_ult_c.b==0.8]"
   ]
  },
  {
   "cell_type": "code",
   "execution_count": null,
   "metadata": {},
   "outputs": [],
   "source": [
    "df_max_ult_b = pd.DataFrame()\n",
    "for a in arr_a:\n",
    "    a = np.round(a,4)\n",
    "    df_temp = df_max_ult_c[df_max_ult_c.a==a]\n",
    "    df_max_ult_b = df_max_ult_b.append(df_temp[df.utl_b==max(df_temp.utl_b)])\n",
    "df_max_ult_b"
   ]
  },
  {
   "cell_type": "code",
   "execution_count": null,
   "metadata": {},
   "outputs": [],
   "source": [
    "df_max_ult_b[df_max_ult_c.a==0.25]\n"
   ]
  },
  {
   "cell_type": "code",
   "execution_count": null,
   "metadata": {},
   "outputs": [],
   "source": [
    "df_max_ult_a = pd.DataFrame()\n",
    "df_temp = df_max_ult_b\n",
    "df_max_ult_a = df_max_ult_a.append(df_temp[df.utl_a==max(df_temp.utl_a)])\n",
    "df_max_ult_a"
   ]
  },
  {
   "cell_type": "code",
   "execution_count": 17,
   "metadata": {},
   "outputs": [
    {
     "output_type": "execute_result",
     "data": {
      "text/plain": [
       "        a    b    c    d  utl_a  utl_b  utl_c  utl_d\n",
       "1977  0.2  0.8  0.5  0.1    0.2   0.35   0.30   0.15\n",
       "3795  0.5  0.2  0.8  0.4    0.2   0.30   0.35   0.15\n",
       "4124  0.5  0.8  0.2  0.6    0.2   0.30   0.35   0.15\n",
       "5942  0.8  0.2  0.5  0.9    0.2   0.35   0.30   0.15"
      ],
      "text/html": "<div>\n<style scoped>\n    .dataframe tbody tr th:only-of-type {\n        vertical-align: middle;\n    }\n\n    .dataframe tbody tr th {\n        vertical-align: top;\n    }\n\n    .dataframe thead th {\n        text-align: right;\n    }\n</style>\n<table border=\"1\" class=\"dataframe\">\n  <thead>\n    <tr style=\"text-align: right;\">\n      <th></th>\n      <th>a</th>\n      <th>b</th>\n      <th>c</th>\n      <th>d</th>\n      <th>utl_a</th>\n      <th>utl_b</th>\n      <th>utl_c</th>\n      <th>utl_d</th>\n    </tr>\n  </thead>\n  <tbody>\n    <tr>\n      <th>1977</th>\n      <td>0.2</td>\n      <td>0.8</td>\n      <td>0.5</td>\n      <td>0.1</td>\n      <td>0.2</td>\n      <td>0.35</td>\n      <td>0.30</td>\n      <td>0.15</td>\n    </tr>\n    <tr>\n      <th>3795</th>\n      <td>0.5</td>\n      <td>0.2</td>\n      <td>0.8</td>\n      <td>0.4</td>\n      <td>0.2</td>\n      <td>0.30</td>\n      <td>0.35</td>\n      <td>0.15</td>\n    </tr>\n    <tr>\n      <th>4124</th>\n      <td>0.5</td>\n      <td>0.8</td>\n      <td>0.2</td>\n      <td>0.6</td>\n      <td>0.2</td>\n      <td>0.30</td>\n      <td>0.35</td>\n      <td>0.15</td>\n    </tr>\n    <tr>\n      <th>5942</th>\n      <td>0.8</td>\n      <td>0.2</td>\n      <td>0.5</td>\n      <td>0.9</td>\n      <td>0.2</td>\n      <td>0.35</td>\n      <td>0.30</td>\n      <td>0.15</td>\n    </tr>\n  </tbody>\n</table>\n</div>"
     },
     "metadata": {},
     "execution_count": 17
    }
   ],
   "source": [
    "df_max_ult_a = pd.DataFrame()\n",
    "df_temp = df_max_ult_b\n",
    "df_max_ult_a = df_max_ult_a.append(df_temp[df.utl_a==max(df_temp.utl_a)])\n",
    "df_max_ult_a"
   ]
  },
  {
   "cell_type": "code",
   "execution_count": 18,
   "metadata": {},
   "outputs": [
    {
     "output_type": "display_data",
     "data": {
      "text/plain": "Canvas(toolbar=Toolbar(toolitems=[('Home', 'Reset original view', 'home', 'home'), ('Back', 'Back to previous …",
      "application/vnd.jupyter.widget-view+json": {
       "version_major": 2,
       "version_minor": 0,
       "model_id": "35c10ee27e07447e9f781880f6789f78"
      }
     },
     "metadata": {}
    },
    {
     "output_type": "error",
     "ename": "NameError",
     "evalue": "name 'ax' is not defined",
     "traceback": [
      "\u001b[1;31m---------------------------------------------------------------------------\u001b[0m",
      "\u001b[1;31mNameError\u001b[0m                                 Traceback (most recent call last)",
      "\u001b[1;32m<ipython-input-18-d850c2123089>\u001b[0m in \u001b[0;36m<module>\u001b[1;34m\u001b[0m\n\u001b[0;32m      3\u001b[0m \u001b[0mplt\u001b[0m\u001b[1;33m.\u001b[0m\u001b[0mfigure\u001b[0m\u001b[1;33m(\u001b[0m\u001b[1;33m)\u001b[0m\u001b[1;33m\u001b[0m\u001b[1;33m\u001b[0m\u001b[0m\n\u001b[0;32m      4\u001b[0m \u001b[1;31m#ax = sns.scatterplot(data=df_max_ult_c, x=\"a\", y=\"b\",size=\"utl_c\",color=\"r\")\u001b[0m\u001b[1;33m\u001b[0m\u001b[1;33m\u001b[0m\u001b[1;33m\u001b[0m\u001b[0m\n\u001b[1;32m----> 5\u001b[1;33m \u001b[0max\u001b[0m\u001b[1;33m.\u001b[0m\u001b[0mget_legend\u001b[0m\u001b[1;33m(\u001b[0m\u001b[1;33m)\u001b[0m\u001b[1;33m.\u001b[0m\u001b[0mremove\u001b[0m\u001b[1;33m(\u001b[0m\u001b[1;33m)\u001b[0m\u001b[1;33m\u001b[0m\u001b[1;33m\u001b[0m\u001b[0m\n\u001b[0m",
      "\u001b[1;31mNameError\u001b[0m: name 'ax' is not defined"
     ]
    }
   ],
   "source": [
    "%matplotlib widget\n",
    "df_fix_a = df[df.a==0]\n",
    "plt.figure()\n",
    "#ax = sns.scatterplot(data=df_max_ult_c, x=\"a\", y=\"b\",size=\"utl_c\",color=\"r\")\n",
    "ax.get_legend().remove()"
   ]
  },
  {
   "cell_type": "code",
   "execution_count": null,
   "metadata": {},
   "outputs": [],
   "source": []
  }
 ]
}