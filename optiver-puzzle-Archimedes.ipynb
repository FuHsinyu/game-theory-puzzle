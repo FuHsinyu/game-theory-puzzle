{
 "metadata": {
  "language_info": {
   "codemirror_mode": {
    "name": "ipython",
    "version": 3
   },
   "file_extension": ".py",
   "mimetype": "text/x-python",
   "name": "python",
   "nbconvert_exporter": "python",
   "pygments_lexer": "ipython3",
   "version": "3.7.1-final"
  },
  "orig_nbformat": 2,
  "kernelspec": {
   "name": "python3",
   "display_name": "Python 3",
   "language": "python"
  }
 },
 "nbformat": 4,
 "nbformat_minor": 2,
 "cells": [
  {
   "cell_type": "code",
   "execution_count": 21,
   "metadata": {},
   "outputs": [],
   "source": [
    "import numpy as np\n",
    "import pandas as pd\n",
    "import seaborn as sns\n",
    "import matplotlib.pyplot as plt\n",
    "import warnings\n",
    "import warnings\n",
    "warnings.filterwarnings(\"ignore\")\n",
    "pd.set_option('display.max_rows', 20)"
   ]
  },
  {
   "cell_type": "code",
   "execution_count": 22,
   "metadata": {},
   "outputs": [],
   "source": [
    "'''\n",
    "a #number picked by A\n",
    "A #Player A\n",
    "ult_a #utility of A\n",
    "'''\n",
    "\n",
    "n = 3  # Num of palyers\n",
    "epsilon = 0.01 #stepsize\n"
   ]
  },
  {
   "cell_type": "code",
   "execution_count": 23,
   "metadata": {},
   "outputs": [
    {
     "output_type": "execute_result",
     "data": {
      "text/plain": [
       "'#test\\npicks_dic={}\\npicks_dic[\"bounder_l\"] = 0\\npicks_dic[\"a\"] = 0.1\\npicks_dic[\"b\"] = 0.3\\npicks_dic[\"c\"] = 0.2\\npicks_dic[\"bounder_r\"] = 1\\nget_utl_for_each_palyer(picks_dic)\\n'"
      ]
     },
     "metadata": {},
     "execution_count": 23
    }
   ],
   "source": [
    "def get_utl_of_a_palyer(ord_picks,p_index,p_name):\n",
    "    if p_index == 1:\n",
    "        ult = ord_picks[p_index]-ord_picks[0] + (ord_picks[p_index+1]-ord_picks[p_index])/2\n",
    "    elif p_index == len(ord_picks)-2:\n",
    "        ult = ord_picks[-1]-ord_picks[p_index] + (ord_picks[p_index]-ord_picks[p_index-1])/2\n",
    "    else:\n",
    "        ult = (ord_picks[p_index+1]-ord_picks[p_index-1])/2\n",
    "    return {\"utl_\"+p_name:np.round(ult,4)}\n",
    "\n",
    "def get_utl_for_each_palyer(picks_dic):\n",
    "    utl_dic = {}\n",
    "    ord_picks_dic = {k: v for k, v in sorted(picks_dic.items(), key=lambda item: item[1])}\n",
    "    for p_index in range(1,n+1):\n",
    "        utl_dic.update(get_utl_of_a_palyer(list(ord_picks_dic.values()),p_index,list(ord_picks_dic.keys())[p_index],))\n",
    "    ord_picks_dic.update(utl_dic)\n",
    "    return ord_picks_dic\n",
    "'''#test\n",
    "picks_dic={}\n",
    "picks_dic[\"bounder_l\"] = 0\n",
    "picks_dic[\"a\"] = 0.1\n",
    "picks_dic[\"b\"] = 0.3\n",
    "picks_dic[\"c\"] = 0.2\n",
    "picks_dic[\"bounder_r\"] = 1\n",
    "get_utl_for_each_palyer(picks_dic)\n",
    "'''"
   ]
  },
  {
   "cell_type": "code",
   "execution_count": 24,
   "metadata": {
    "tags": []
   },
   "outputs": [
    {
     "output_type": "stream",
     "name": "stdout",
     "text": [
      "Progress:0.0/100\n",
      "Progress:1.0/100\n",
      "Progress:2.0/100\n",
      "Progress:3.0/100\n",
      "Progress:4.0/100\n",
      "Progress:5.0/100\n",
      "Progress:6.0/100\n",
      "Progress:7.000000000000001/100\n",
      "Progress:8.0/100\n",
      "Progress:9.0/100\n",
      "Progress:10.0/100\n",
      "Progress:11.0/100\n",
      "Progress:12.0/100\n",
      "Progress:13.0/100\n",
      "Progress:14.000000000000002/100\n",
      "Progress:15.0/100\n",
      "Progress:16.0/100\n",
      "Progress:17.0/100\n",
      "Progress:18.0/100\n",
      "Progress:19.0/100\n",
      "Progress:20.0/100\n",
      "Progress:21.0/100\n",
      "Progress:22.0/100\n",
      "Progress:23.0/100\n",
      "Progress:24.0/100\n",
      "Progress:25.0/100\n",
      "Progress:26.0/100\n",
      "Progress:27.0/100\n",
      "Progress:28.000000000000004/100\n",
      "Progress:28.999999999999996/100\n",
      "Progress:30.0/100\n",
      "Progress:31.0/100\n",
      "Progress:32.0/100\n",
      "Progress:33.0/100\n",
      "Progress:34.0/100\n",
      "Progress:35.0/100\n",
      "Progress:36.0/100\n",
      "Progress:37.0/100\n",
      "Progress:38.0/100\n",
      "Progress:39.0/100\n",
      "Progress:40.0/100\n",
      "Progress:41.0/100\n",
      "Progress:42.0/100\n",
      "Progress:43.0/100\n",
      "Progress:44.0/100\n",
      "Progress:45.0/100\n",
      "Progress:46.0/100\n",
      "Progress:47.0/100\n",
      "Progress:48.0/100\n",
      "Progress:49.0/100\n",
      "Progress:50.0/100\n",
      "Progress:51.0/100\n",
      "Progress:52.0/100\n",
      "Progress:53.0/100\n",
      "Progress:54.0/100\n",
      "Progress:55.00000000000001/100\n",
      "Progress:56.00000000000001/100\n",
      "Progress:57.00000000000001/100\n",
      "Progress:57.99999999999999/100\n",
      "Progress:59.0/100\n",
      "Progress:60.0/100\n",
      "Progress:61.0/100\n",
      "Progress:62.0/100\n",
      "Progress:63.0/100\n",
      "Progress:64.0/100\n",
      "Progress:65.0/100\n",
      "Progress:66.0/100\n",
      "Progress:67.0/100\n",
      "Progress:68.0/100\n",
      "Progress:69.0/100\n",
      "Progress:70.0/100\n",
      "Progress:71.0/100\n",
      "Progress:72.0/100\n",
      "Progress:73.0/100\n",
      "Progress:74.0/100\n",
      "Progress:75.0/100\n",
      "Progress:76.0/100\n",
      "Progress:77.0/100\n",
      "Progress:78.0/100\n",
      "Progress:79.0/100\n",
      "Progress:80.0/100\n",
      "Progress:81.0/100\n",
      "Progress:82.0/100\n",
      "Progress:83.0/100\n",
      "Progress:84.0/100\n",
      "Progress:85.0/100\n",
      "Progress:86.0/100\n",
      "Progress:87.0/100\n",
      "Progress:88.0/100\n",
      "Progress:89.0/100\n",
      "Progress:90.0/100\n",
      "Progress:91.0/100\n",
      "Progress:92.0/100\n",
      "Progress:93.0/100\n",
      "Progress:94.0/100\n",
      "Progress:95.0/100\n",
      "Progress:96.0/100\n",
      "Progress:97.0/100\n",
      "Progress:98.0/100\n",
      "Progress:99.0/100\n",
      "Progress:100.0/100\n",
      "Wall time: 17h 11min 17s\n"
     ]
    }
   ],
   "source": [
    "%%time\n",
    "#columns = [\"bounder_l\",\"a\",\"b\",\"c\",\"bounder_r\",\"utl_a\",\"utl_b\",\"utl_c\"]\n",
    "df = pd.DataFrame()\n",
    "picks_dic = {}\n",
    "picks_dic[\"bounder_l\"] = 0\n",
    "for a in np.arange(0,1+epsilon,step=epsilon):\n",
    "    a = np.round(a,4)\n",
    "    print(\"Progress:{}/100\".format(a*100))\n",
    "    picks_dic[\"a\"] = a\n",
    "    for b in np.arange(0,1+epsilon,step=epsilon):\n",
    "        b = np.round(b,4)\n",
    "        if b == a:\n",
    "            continue\n",
    "        picks_dic[\"b\"] = b\n",
    "        for c in np.arange(0,1+epsilon,step=epsilon):\n",
    "            c = np.round(c,4)\n",
    "            if c==b or c==a:\n",
    "                continue\n",
    "            picks_dic[\"c\"] = c\n",
    "            picks_dic[\"bounder_r\"] = 1\n",
    "            row_dic = get_utl_for_each_palyer(picks_dic)\n",
    "            df = df.append(row_dic,ignore_index = True)\n",
    "df = df.drop(columns=[\"bounder_l\",\"bounder_r\"])\n"
   ]
  },
  {
   "cell_type": "code",
   "execution_count": 26,
   "metadata": {
    "tags": []
   },
   "outputs": [],
   "source": [
    "df_max_ult_c = pd.DataFrame()\n",
    "for a in set(df.a):\n",
    "    for b in set(df.b):\n",
    "        if a==b:\n",
    "            continue\n",
    "        df_temp = df[df.a==a][df.b==b]\n",
    "        df_max_ult_c = df_max_ult_c.append(df_temp[df.utl_c==max(df_temp.utl_c)])"
   ]
  },
  {
   "cell_type": "code",
   "execution_count": 41,
   "metadata": {},
   "outputs": [
    {
     "output_type": "execute_result",
     "data": {
      "text/plain": [
       "           a     b     c  utl_a  utl_b  utl_c\n",
       "254851  0.25  0.75  0.26  0.255  0.495   0.25\n",
       "254852  0.25  0.75  0.27  0.260  0.490   0.25\n",
       "254853  0.25  0.75  0.28  0.265  0.485   0.25\n",
       "254854  0.25  0.75  0.29  0.270  0.480   0.25\n",
       "254855  0.25  0.75  0.30  0.275  0.475   0.25\n",
       "254856  0.25  0.75  0.31  0.280  0.470   0.25\n",
       "254857  0.25  0.75  0.32  0.285  0.465   0.25\n",
       "254858  0.25  0.75  0.33  0.290  0.460   0.25\n",
       "254859  0.25  0.75  0.34  0.295  0.455   0.25\n",
       "254860  0.25  0.75  0.35  0.300  0.450   0.25\n",
       "...      ...   ...   ...    ...    ...    ...\n",
       "254890  0.25  0.75  0.65  0.450  0.300   0.25\n",
       "254891  0.25  0.75  0.66  0.455  0.295   0.25\n",
       "254892  0.25  0.75  0.67  0.460  0.290   0.25\n",
       "254893  0.25  0.75  0.68  0.465  0.285   0.25\n",
       "254894  0.25  0.75  0.69  0.470  0.280   0.25\n",
       "254895  0.25  0.75  0.70  0.475  0.275   0.25\n",
       "254896  0.25  0.75  0.71  0.480  0.270   0.25\n",
       "254897  0.25  0.75  0.72  0.485  0.265   0.25\n",
       "254898  0.25  0.75  0.73  0.490  0.260   0.25\n",
       "254899  0.25  0.75  0.74  0.495  0.255   0.25\n",
       "\n",
       "[49 rows x 6 columns]"
      ],
      "text/html": "<div>\n<style scoped>\n    .dataframe tbody tr th:only-of-type {\n        vertical-align: middle;\n    }\n\n    .dataframe tbody tr th {\n        vertical-align: top;\n    }\n\n    .dataframe thead th {\n        text-align: right;\n    }\n</style>\n<table border=\"1\" class=\"dataframe\">\n  <thead>\n    <tr style=\"text-align: right;\">\n      <th></th>\n      <th>a</th>\n      <th>b</th>\n      <th>c</th>\n      <th>utl_a</th>\n      <th>utl_b</th>\n      <th>utl_c</th>\n    </tr>\n  </thead>\n  <tbody>\n    <tr>\n      <th>254851</th>\n      <td>0.25</td>\n      <td>0.75</td>\n      <td>0.26</td>\n      <td>0.255</td>\n      <td>0.495</td>\n      <td>0.25</td>\n    </tr>\n    <tr>\n      <th>254852</th>\n      <td>0.25</td>\n      <td>0.75</td>\n      <td>0.27</td>\n      <td>0.260</td>\n      <td>0.490</td>\n      <td>0.25</td>\n    </tr>\n    <tr>\n      <th>254853</th>\n      <td>0.25</td>\n      <td>0.75</td>\n      <td>0.28</td>\n      <td>0.265</td>\n      <td>0.485</td>\n      <td>0.25</td>\n    </tr>\n    <tr>\n      <th>254854</th>\n      <td>0.25</td>\n      <td>0.75</td>\n      <td>0.29</td>\n      <td>0.270</td>\n      <td>0.480</td>\n      <td>0.25</td>\n    </tr>\n    <tr>\n      <th>254855</th>\n      <td>0.25</td>\n      <td>0.75</td>\n      <td>0.30</td>\n      <td>0.275</td>\n      <td>0.475</td>\n      <td>0.25</td>\n    </tr>\n    <tr>\n      <th>254856</th>\n      <td>0.25</td>\n      <td>0.75</td>\n      <td>0.31</td>\n      <td>0.280</td>\n      <td>0.470</td>\n      <td>0.25</td>\n    </tr>\n    <tr>\n      <th>254857</th>\n      <td>0.25</td>\n      <td>0.75</td>\n      <td>0.32</td>\n      <td>0.285</td>\n      <td>0.465</td>\n      <td>0.25</td>\n    </tr>\n    <tr>\n      <th>254858</th>\n      <td>0.25</td>\n      <td>0.75</td>\n      <td>0.33</td>\n      <td>0.290</td>\n      <td>0.460</td>\n      <td>0.25</td>\n    </tr>\n    <tr>\n      <th>254859</th>\n      <td>0.25</td>\n      <td>0.75</td>\n      <td>0.34</td>\n      <td>0.295</td>\n      <td>0.455</td>\n      <td>0.25</td>\n    </tr>\n    <tr>\n      <th>254860</th>\n      <td>0.25</td>\n      <td>0.75</td>\n      <td>0.35</td>\n      <td>0.300</td>\n      <td>0.450</td>\n      <td>0.25</td>\n    </tr>\n    <tr>\n      <th>...</th>\n      <td>...</td>\n      <td>...</td>\n      <td>...</td>\n      <td>...</td>\n      <td>...</td>\n      <td>...</td>\n    </tr>\n    <tr>\n      <th>254890</th>\n      <td>0.25</td>\n      <td>0.75</td>\n      <td>0.65</td>\n      <td>0.450</td>\n      <td>0.300</td>\n      <td>0.25</td>\n    </tr>\n    <tr>\n      <th>254891</th>\n      <td>0.25</td>\n      <td>0.75</td>\n      <td>0.66</td>\n      <td>0.455</td>\n      <td>0.295</td>\n      <td>0.25</td>\n    </tr>\n    <tr>\n      <th>254892</th>\n      <td>0.25</td>\n      <td>0.75</td>\n      <td>0.67</td>\n      <td>0.460</td>\n      <td>0.290</td>\n      <td>0.25</td>\n    </tr>\n    <tr>\n      <th>254893</th>\n      <td>0.25</td>\n      <td>0.75</td>\n      <td>0.68</td>\n      <td>0.465</td>\n      <td>0.285</td>\n      <td>0.25</td>\n    </tr>\n    <tr>\n      <th>254894</th>\n      <td>0.25</td>\n      <td>0.75</td>\n      <td>0.69</td>\n      <td>0.470</td>\n      <td>0.280</td>\n      <td>0.25</td>\n    </tr>\n    <tr>\n      <th>254895</th>\n      <td>0.25</td>\n      <td>0.75</td>\n      <td>0.70</td>\n      <td>0.475</td>\n      <td>0.275</td>\n      <td>0.25</td>\n    </tr>\n    <tr>\n      <th>254896</th>\n      <td>0.25</td>\n      <td>0.75</td>\n      <td>0.71</td>\n      <td>0.480</td>\n      <td>0.270</td>\n      <td>0.25</td>\n    </tr>\n    <tr>\n      <th>254897</th>\n      <td>0.25</td>\n      <td>0.75</td>\n      <td>0.72</td>\n      <td>0.485</td>\n      <td>0.265</td>\n      <td>0.25</td>\n    </tr>\n    <tr>\n      <th>254898</th>\n      <td>0.25</td>\n      <td>0.75</td>\n      <td>0.73</td>\n      <td>0.490</td>\n      <td>0.260</td>\n      <td>0.25</td>\n    </tr>\n    <tr>\n      <th>254899</th>\n      <td>0.25</td>\n      <td>0.75</td>\n      <td>0.74</td>\n      <td>0.495</td>\n      <td>0.255</td>\n      <td>0.25</td>\n    </tr>\n  </tbody>\n</table>\n<p>49 rows × 6 columns</p>\n</div>"
     },
     "metadata": {},
     "execution_count": 41
    }
   ],
   "source": [
    "df_max_ult_c[df_max_ult_c.a==0.25][df_max_ult_c.b==0.75]"
   ]
  },
  {
   "cell_type": "code",
   "execution_count": 28,
   "metadata": {},
   "outputs": [
    {
     "output_type": "execute_result",
     "data": {
      "text/plain": [
       "           a     b     c  utl_a  utl_b  utl_c\n",
       "6534    0.00  0.67  0.01  0.005  0.660  0.335\n",
       "244950  0.24  0.75  0.25  0.245  0.500  0.255\n",
       "254851  0.25  0.75  0.26  0.255  0.495  0.250\n",
       "499999  0.50  0.51  0.49  0.010  0.495  0.495\n",
       "499900  0.50  0.49  0.51  0.010  0.495  0.495\n",
       "264652  0.26  0.74  0.25  0.245  0.500  0.255\n",
       "509801  0.51  0.49  0.52  0.015  0.500  0.485\n",
       "754949  0.76  0.25  0.75  0.245  0.500  0.255\n",
       "539207  0.54  0.46  0.55  0.045  0.500  0.455\n",
       "745048  0.75  0.25  0.74  0.255  0.495  0.250\n",
       "...      ...   ...   ...    ...    ...    ...\n",
       "617623  0.62  0.38  0.63  0.125  0.500  0.375\n",
       "864256  0.87  0.29  0.86  0.135  0.575  0.290\n",
       "36336   0.03  0.68  0.04  0.035  0.640  0.325\n",
       "705841  0.71  0.29  0.72  0.215  0.500  0.285\n",
       "953662  0.96  0.32  0.95  0.045  0.635  0.320\n",
       "26336   0.02  0.67  0.03  0.025  0.650  0.325\n",
       "16435   0.01  0.67  0.02  0.015  0.655  0.330\n",
       "568613  0.57  0.43  0.58  0.075  0.500  0.425\n",
       "814553  0.82  0.27  0.81  0.185  0.540  0.275\n",
       "411682  0.41  0.59  0.40  0.095  0.500  0.405\n",
       "\n",
       "[102 rows x 6 columns]"
      ],
      "text/html": "<div>\n<style scoped>\n    .dataframe tbody tr th:only-of-type {\n        vertical-align: middle;\n    }\n\n    .dataframe tbody tr th {\n        vertical-align: top;\n    }\n\n    .dataframe thead th {\n        text-align: right;\n    }\n</style>\n<table border=\"1\" class=\"dataframe\">\n  <thead>\n    <tr style=\"text-align: right;\">\n      <th></th>\n      <th>a</th>\n      <th>b</th>\n      <th>c</th>\n      <th>utl_a</th>\n      <th>utl_b</th>\n      <th>utl_c</th>\n    </tr>\n  </thead>\n  <tbody>\n    <tr>\n      <th>6534</th>\n      <td>0.00</td>\n      <td>0.67</td>\n      <td>0.01</td>\n      <td>0.005</td>\n      <td>0.660</td>\n      <td>0.335</td>\n    </tr>\n    <tr>\n      <th>244950</th>\n      <td>0.24</td>\n      <td>0.75</td>\n      <td>0.25</td>\n      <td>0.245</td>\n      <td>0.500</td>\n      <td>0.255</td>\n    </tr>\n    <tr>\n      <th>254851</th>\n      <td>0.25</td>\n      <td>0.75</td>\n      <td>0.26</td>\n      <td>0.255</td>\n      <td>0.495</td>\n      <td>0.250</td>\n    </tr>\n    <tr>\n      <th>499999</th>\n      <td>0.50</td>\n      <td>0.51</td>\n      <td>0.49</td>\n      <td>0.010</td>\n      <td>0.495</td>\n      <td>0.495</td>\n    </tr>\n    <tr>\n      <th>499900</th>\n      <td>0.50</td>\n      <td>0.49</td>\n      <td>0.51</td>\n      <td>0.010</td>\n      <td>0.495</td>\n      <td>0.495</td>\n    </tr>\n    <tr>\n      <th>264652</th>\n      <td>0.26</td>\n      <td>0.74</td>\n      <td>0.25</td>\n      <td>0.245</td>\n      <td>0.500</td>\n      <td>0.255</td>\n    </tr>\n    <tr>\n      <th>509801</th>\n      <td>0.51</td>\n      <td>0.49</td>\n      <td>0.52</td>\n      <td>0.015</td>\n      <td>0.500</td>\n      <td>0.485</td>\n    </tr>\n    <tr>\n      <th>754949</th>\n      <td>0.76</td>\n      <td>0.25</td>\n      <td>0.75</td>\n      <td>0.245</td>\n      <td>0.500</td>\n      <td>0.255</td>\n    </tr>\n    <tr>\n      <th>539207</th>\n      <td>0.54</td>\n      <td>0.46</td>\n      <td>0.55</td>\n      <td>0.045</td>\n      <td>0.500</td>\n      <td>0.455</td>\n    </tr>\n    <tr>\n      <th>745048</th>\n      <td>0.75</td>\n      <td>0.25</td>\n      <td>0.74</td>\n      <td>0.255</td>\n      <td>0.495</td>\n      <td>0.250</td>\n    </tr>\n    <tr>\n      <th>...</th>\n      <td>...</td>\n      <td>...</td>\n      <td>...</td>\n      <td>...</td>\n      <td>...</td>\n      <td>...</td>\n    </tr>\n    <tr>\n      <th>617623</th>\n      <td>0.62</td>\n      <td>0.38</td>\n      <td>0.63</td>\n      <td>0.125</td>\n      <td>0.500</td>\n      <td>0.375</td>\n    </tr>\n    <tr>\n      <th>864256</th>\n      <td>0.87</td>\n      <td>0.29</td>\n      <td>0.86</td>\n      <td>0.135</td>\n      <td>0.575</td>\n      <td>0.290</td>\n    </tr>\n    <tr>\n      <th>36336</th>\n      <td>0.03</td>\n      <td>0.68</td>\n      <td>0.04</td>\n      <td>0.035</td>\n      <td>0.640</td>\n      <td>0.325</td>\n    </tr>\n    <tr>\n      <th>705841</th>\n      <td>0.71</td>\n      <td>0.29</td>\n      <td>0.72</td>\n      <td>0.215</td>\n      <td>0.500</td>\n      <td>0.285</td>\n    </tr>\n    <tr>\n      <th>953662</th>\n      <td>0.96</td>\n      <td>0.32</td>\n      <td>0.95</td>\n      <td>0.045</td>\n      <td>0.635</td>\n      <td>0.320</td>\n    </tr>\n    <tr>\n      <th>26336</th>\n      <td>0.02</td>\n      <td>0.67</td>\n      <td>0.03</td>\n      <td>0.025</td>\n      <td>0.650</td>\n      <td>0.325</td>\n    </tr>\n    <tr>\n      <th>16435</th>\n      <td>0.01</td>\n      <td>0.67</td>\n      <td>0.02</td>\n      <td>0.015</td>\n      <td>0.655</td>\n      <td>0.330</td>\n    </tr>\n    <tr>\n      <th>568613</th>\n      <td>0.57</td>\n      <td>0.43</td>\n      <td>0.58</td>\n      <td>0.075</td>\n      <td>0.500</td>\n      <td>0.425</td>\n    </tr>\n    <tr>\n      <th>814553</th>\n      <td>0.82</td>\n      <td>0.27</td>\n      <td>0.81</td>\n      <td>0.185</td>\n      <td>0.540</td>\n      <td>0.275</td>\n    </tr>\n    <tr>\n      <th>411682</th>\n      <td>0.41</td>\n      <td>0.59</td>\n      <td>0.40</td>\n      <td>0.095</td>\n      <td>0.500</td>\n      <td>0.405</td>\n    </tr>\n  </tbody>\n</table>\n<p>102 rows × 6 columns</p>\n</div>"
     },
     "metadata": {},
     "execution_count": 28
    }
   ],
   "source": [
    "df_max_ult_b = pd.DataFrame()\n",
    "for a in set(df.a):\n",
    "    df_temp = df_max_ult_c[df_max_ult_c.a==a]\n",
    "    df_max_ult_b = df_max_ult_b.append(df_temp[df.utl_b==max(df_temp.utl_b)])\n",
    "df_max_ult_b"
   ]
  },
  {
   "cell_type": "code",
   "execution_count": 38,
   "metadata": {},
   "outputs": [
    {
     "output_type": "execute_result",
     "data": {
      "text/plain": [
       "           a     b     c  utl_a  utl_b  utl_c\n",
       "254851  0.25  0.75  0.26  0.255  0.495   0.25"
      ],
      "text/html": "<div>\n<style scoped>\n    .dataframe tbody tr th:only-of-type {\n        vertical-align: middle;\n    }\n\n    .dataframe tbody tr th {\n        vertical-align: top;\n    }\n\n    .dataframe thead th {\n        text-align: right;\n    }\n</style>\n<table border=\"1\" class=\"dataframe\">\n  <thead>\n    <tr style=\"text-align: right;\">\n      <th></th>\n      <th>a</th>\n      <th>b</th>\n      <th>c</th>\n      <th>utl_a</th>\n      <th>utl_b</th>\n      <th>utl_c</th>\n    </tr>\n  </thead>\n  <tbody>\n    <tr>\n      <th>254851</th>\n      <td>0.25</td>\n      <td>0.75</td>\n      <td>0.26</td>\n      <td>0.255</td>\n      <td>0.495</td>\n      <td>0.25</td>\n    </tr>\n  </tbody>\n</table>\n</div>"
     },
     "metadata": {},
     "execution_count": 38
    }
   ],
   "source": [
    "df_max_ult_b[df_max_ult_c.a==0.25]\n"
   ]
  },
  {
   "cell_type": "code",
   "execution_count": 29,
   "metadata": {},
   "outputs": [
    {
     "output_type": "execute_result",
     "data": {
      "text/plain": [
       "           a     b     c  utl_a  utl_b  utl_c\n",
       "254851  0.25  0.75  0.26  0.255  0.495   0.25\n",
       "745048  0.75  0.25  0.74  0.255  0.495   0.25"
      ],
      "text/html": "<div>\n<style scoped>\n    .dataframe tbody tr th:only-of-type {\n        vertical-align: middle;\n    }\n\n    .dataframe tbody tr th {\n        vertical-align: top;\n    }\n\n    .dataframe thead th {\n        text-align: right;\n    }\n</style>\n<table border=\"1\" class=\"dataframe\">\n  <thead>\n    <tr style=\"text-align: right;\">\n      <th></th>\n      <th>a</th>\n      <th>b</th>\n      <th>c</th>\n      <th>utl_a</th>\n      <th>utl_b</th>\n      <th>utl_c</th>\n    </tr>\n  </thead>\n  <tbody>\n    <tr>\n      <th>254851</th>\n      <td>0.25</td>\n      <td>0.75</td>\n      <td>0.26</td>\n      <td>0.255</td>\n      <td>0.495</td>\n      <td>0.25</td>\n    </tr>\n    <tr>\n      <th>745048</th>\n      <td>0.75</td>\n      <td>0.25</td>\n      <td>0.74</td>\n      <td>0.255</td>\n      <td>0.495</td>\n      <td>0.25</td>\n    </tr>\n  </tbody>\n</table>\n</div>"
     },
     "metadata": {},
     "execution_count": 29
    }
   ],
   "source": [
    "df_max_ult_a = pd.DataFrame()\n",
    "df_temp = df_max_ult_b\n",
    "df_max_ult_a = df_max_ult_a.append(df_temp[df.utl_a==max(df_temp.utl_a)])\n",
    "df_max_ult_a"
   ]
  },
  {
   "cell_type": "code",
   "execution_count": null,
   "metadata": {},
   "outputs": [],
   "source": []
  }
 ]
}