{
 "metadata": {
  "language_info": {
   "codemirror_mode": {
    "name": "ipython",
    "version": 3
   },
   "file_extension": ".py",
   "mimetype": "text/x-python",
   "name": "python",
   "nbconvert_exporter": "python",
   "pygments_lexer": "ipython3",
   "version": "3.7.1-final"
  },
  "orig_nbformat": 2,
  "kernelspec": {
   "name": "python3",
   "display_name": "Python 3",
   "language": "python"
  }
 },
 "nbformat": 4,
 "nbformat_minor": 2,
 "cells": [
  {
   "cell_type": "code",
   "execution_count": 21,
   "metadata": {},
   "outputs": [],
   "source": [
    "import numpy as np\n",
    "import pandas as pd\n",
    "import seaborn as sns\n",
    "import matplotlib.pyplot as plt\n",
    "import warnings\n",
    "import warnings\n",
    "warnings.filterwarnings(\"ignore\")\n",
    "pd.set_option('display.max_rows', 20)"
   ]
  },
  {
   "cell_type": "code",
   "execution_count": 22,
   "metadata": {},
   "outputs": [],
   "source": [
    "'''\n",
    "a #number picked by A\n",
    "A #Player A\n",
    "ult_a #utility of A\n",
    "'''\n",
    "n = 3  # Num of palyers\n",
    "epsilon = 0.01 #stepsize\n"
   ]
  },
  {
   "cell_type": "code",
   "execution_count": 23,
   "metadata": {},
   "outputs": [
    {
     "output_type": "execute_result",
     "data": {
      "text/plain": [
       "'#test\\npicks_dic={}\\npicks_dic[\"bounder_l\"] = 0\\npicks_dic[\"a\"] = 0.1\\npicks_dic[\"b\"] = 0.3\\npicks_dic[\"c\"] = 0.2\\npicks_dic[\"bounder_r\"] = 1\\nget_utl_for_each_palyer(picks_dic)\\n'"
      ]
     },
     "metadata": {},
     "execution_count": 23
    }
   ],
   "source": [
    "# define funcs\n",
    "def get_utl_of_a_palyer(ord_picks,p_index,p_name):\n",
    "    if p_index == 1:\n",
    "        ult = ord_picks[p_index]-ord_picks[0] + (ord_picks[p_index+1]-ord_picks[p_index])/2\n",
    "    elif p_index == len(ord_picks)-2:\n",
    "        ult = ord_picks[-1]-ord_picks[p_index] + (ord_picks[p_index]-ord_picks[p_index-1])/2\n",
    "    else:\n",
    "        ult = (ord_picks[p_index+1]-ord_picks[p_index-1])/2\n",
    "    return {\"utl_\"+p_name:np.round(ult,4)}\n",
    "\n",
    "def get_utl_for_each_palyer(picks_dic):\n",
    "    utl_dic = {}\n",
    "    ord_picks_dic = {k: v for k, v in sorted(picks_dic.items(), key=lambda item: item[1])}\n",
    "    for p_index in range(1,n+1):\n",
    "        utl_dic.update(get_utl_of_a_palyer(list(ord_picks_dic.values()),p_index,list(ord_picks_dic.keys())[p_index],))\n",
    "    ord_picks_dic.update(utl_dic)\n",
    "    return ord_picks_dic\n",
    "'''#test\n",
    "picks_dic={}\n",
    "picks_dic[\"bounder_l\"] = 0\n",
    "picks_dic[\"a\"] = 0.1\n",
    "picks_dic[\"b\"] = 0.3\n",
    "picks_dic[\"c\"] = 0.2\n",
    "picks_dic[\"bounder_r\"] = 1\n",
    "get_utl_for_each_palyer(picks_dic)\n",
    "'''"
   ]
  },
  {
   "cell_type": "code",
   "execution_count": 24,
   "metadata": {
    "tags": []
   },
   "outputs": [
    {
     "output_type": "stream",
     "name": "stdout",
     "text": [
      "Progress:0.0/100\n",
      "Progress:1.0/100\n",
      "Progress:2.0/100\n",
      "Progress:3.0/100\n",
      "Progress:4.0/100\n",
      "Progress:5.0/100\n",
      "Progress:6.0/100\n",
      "Progress:7.000000000000001/100\n",
      "Progress:8.0/100\n",
      "Progress:9.0/100\n",
      "Progress:10.0/100\n",
      "Progress:11.0/100\n",
      "Progress:12.0/100\n",
      "Progress:13.0/100\n",
      "Progress:14.000000000000002/100\n",
      "Progress:15.0/100\n",
      "Progress:16.0/100\n",
      "Progress:17.0/100\n",
      "Progress:18.0/100\n",
      "Progress:19.0/100\n",
      "Progress:20.0/100\n",
      "Progress:21.0/100\n",
      "Progress:22.0/100\n",
      "Progress:23.0/100\n",
      "Progress:24.0/100\n",
      "Progress:25.0/100\n",
      "Progress:26.0/100\n",
      "Progress:27.0/100\n",
      "Progress:28.000000000000004/100\n",
      "Progress:28.999999999999996/100\n",
      "Progress:30.0/100\n",
      "Progress:31.0/100\n",
      "Progress:32.0/100\n",
      "Progress:33.0/100\n",
      "Progress:34.0/100\n",
      "Progress:35.0/100\n",
      "Progress:36.0/100\n",
      "Progress:37.0/100\n",
      "Progress:38.0/100\n",
      "Progress:39.0/100\n",
      "Progress:40.0/100\n",
      "Progress:41.0/100\n",
      "Progress:42.0/100\n",
      "Progress:43.0/100\n",
      "Progress:44.0/100\n",
      "Progress:45.0/100\n",
      "Progress:46.0/100\n",
      "Progress:47.0/100\n",
      "Progress:48.0/100\n",
      "Progress:49.0/100\n",
      "Progress:50.0/100\n",
      "Progress:51.0/100\n",
      "Progress:52.0/100\n",
      "Progress:53.0/100\n",
      "Progress:54.0/100\n",
      "Progress:55.00000000000001/100\n",
      "Progress:56.00000000000001/100\n",
      "Progress:57.00000000000001/100\n",
      "Progress:57.99999999999999/100\n",
      "Progress:59.0/100\n",
      "Progress:60.0/100\n",
      "Progress:61.0/100\n",
      "Progress:62.0/100\n",
      "Progress:63.0/100\n",
      "Progress:64.0/100\n",
      "Progress:65.0/100\n",
      "Progress:66.0/100\n",
      "Progress:67.0/100\n",
      "Progress:68.0/100\n",
      "Progress:69.0/100\n",
      "Progress:70.0/100\n",
      "Progress:71.0/100\n",
      "Progress:72.0/100\n",
      "Progress:73.0/100\n",
      "Progress:74.0/100\n",
      "Progress:75.0/100\n",
      "Progress:76.0/100\n",
      "Progress:77.0/100\n",
      "Progress:78.0/100\n",
      "Progress:79.0/100\n",
      "Progress:80.0/100\n",
      "Progress:81.0/100\n",
      "Progress:82.0/100\n",
      "Progress:83.0/100\n",
      "Progress:84.0/100\n",
      "Progress:85.0/100\n",
      "Progress:86.0/100\n",
      "Progress:87.0/100\n",
      "Progress:88.0/100\n",
      "Progress:89.0/100\n",
      "Progress:90.0/100\n",
      "Progress:91.0/100\n",
      "Progress:92.0/100\n",
      "Progress:93.0/100\n",
      "Progress:94.0/100\n",
      "Progress:95.0/100\n",
      "Progress:96.0/100\n",
      "Progress:97.0/100\n",
      "Progress:98.0/100\n",
      "Progress:99.0/100\n",
      "Progress:100.0/100\n",
      "Wall time: 17h 11min 17s\n"
     ]
    }
   ],
   "source": [
    "%%time\n",
    "# Create combinations\n",
    "df = pd.DataFrame()\n",
    "picks_dic = {}\n",
    "picks_dic[\"bounder_l\"] = 0\n",
    "for a in np.arange(0,1+epsilon,step=epsilon):\n",
    "    a = np.round(a,4)\n",
    "    print(\"Progress:{}/100\".format(a*100))\n",
    "    picks_dic[\"a\"] = a\n",
    "    for b in np.arange(0,1+epsilon,step=epsilon):\n",
    "        b = np.round(b,4)\n",
    "        if b == a:\n",
    "            continue\n",
    "        picks_dic[\"b\"] = b\n",
    "        for c in np.arange(0,1+epsilon,step=epsilon):\n",
    "            c = np.round(c,4)\n",
    "            if c==b or c==a:\n",
    "                continue\n",
    "            picks_dic[\"c\"] = c\n",
    "            picks_dic[\"bounder_r\"] = 1\n",
    "            row_dic = get_utl_for_each_palyer(picks_dic)\n",
    "            df = df.append(row_dic,ignore_index = True)\n",
    "df = df.drop(columns=[\"bounder_l\",\"bounder_r\"])\n"
   ]
  },
  {
   "cell_type": "code",
   "execution_count": 42,
   "metadata": {
    "tags": []
   },
   "outputs": [],
   "source": [
    "# filter the combinations by maxmised P_C = utl(C)\n",
    "df_max_ult_c = pd.DataFrame()\n",
    "for a in set(df.a):\n",
    "    for b in set(df.b):\n",
    "        if a==b:\n",
    "            continue\n",
    "        df_temp = df[df.a==a][df.b==b]\n",
    "        df_max_ult_c = df_max_ult_c.append(df_temp[df.utl_c==max(df_temp.utl_c)])"
   ]
  },
  {
   "cell_type": "code",
   "execution_count": 47,
   "metadata": {},
   "outputs": [],
   "source": [
    "# filter the combinations by maxmised P_B = utl(B)\n",
    "df_max_ult_b = pd.DataFrame()\n",
    "for a in set(df.a):\n",
    "    df_temp = df_max_ult_c[df_max_ult_c.a==a]\n",
    "    df_max_ult_b = df_max_ult_b.append(df_temp[df.utl_b==max(df_temp.utl_b)])"
   ]
  },
  {
   "cell_type": "code",
   "execution_count": 48,
   "metadata": {},
   "outputs": [],
   "source": [
    "# filter the combinations by maxmised P_A = utl(a)\n",
    "df_max_ult_a = pd.DataFrame()\n",
    "df_temp = df_max_ult_b\n",
    "df_max_ult_a = df_max_ult_a.append(df_temp[df.utl_a==max(df_temp.utl_a)])"
   ]
  },
  {
   "cell_type": "code",
   "execution_count": 50,
   "metadata": {},
   "outputs": [
    {
     "output_type": "execute_result",
     "data": {
      "text/plain": [
       "           a     b     c  utl_a  utl_b  utl_c\n",
       "254851  0.25  0.75  0.26  0.255  0.495   0.25\n",
       "745048  0.75  0.25  0.74  0.255  0.495   0.25"
      ],
      "text/html": "<div>\n<style scoped>\n    .dataframe tbody tr th:only-of-type {\n        vertical-align: middle;\n    }\n\n    .dataframe tbody tr th {\n        vertical-align: top;\n    }\n\n    .dataframe thead th {\n        text-align: right;\n    }\n</style>\n<table border=\"1\" class=\"dataframe\">\n  <thead>\n    <tr style=\"text-align: right;\">\n      <th></th>\n      <th>a</th>\n      <th>b</th>\n      <th>c</th>\n      <th>utl_a</th>\n      <th>utl_b</th>\n      <th>utl_c</th>\n    </tr>\n  </thead>\n  <tbody>\n    <tr>\n      <th>254851</th>\n      <td>0.25</td>\n      <td>0.75</td>\n      <td>0.26</td>\n      <td>0.255</td>\n      <td>0.495</td>\n      <td>0.25</td>\n    </tr>\n    <tr>\n      <th>745048</th>\n      <td>0.75</td>\n      <td>0.25</td>\n      <td>0.74</td>\n      <td>0.255</td>\n      <td>0.495</td>\n      <td>0.25</td>\n    </tr>\n  </tbody>\n</table>\n</div>"
     },
     "metadata": {},
     "execution_count": 50
    }
   ],
   "source": [
    "# Results of serveral cases that A picks the optimum number\n",
    "df_max_ult_a"
   ]
  }
 ]
}